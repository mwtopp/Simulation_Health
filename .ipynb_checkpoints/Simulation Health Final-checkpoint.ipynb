{
 "cells": [
  {
   "cell_type": "markdown",
   "id": "c5e9c623",
   "metadata": {},
   "source": [
    "This is an alternative version of the health clinic simulation, using a process oriented format.\n",
    "This is a recovered copy."
   ]
  },
  {
   "cell_type": "markdown",
   "id": "c61cf0c0",
   "metadata": {},
   "source": [
    "This project will develop and explore a simple simulation of a health service provider, such as a clinic.\n",
    "\n",
    "The following assumptions will be made:\n",
    "\n",
    "Patients arrive at random intervals according to a Poisson process, the time between arrivals having an exponential distribution.\n",
    "\n",
    "Patients will be randomly assigned a category of health condition.\n",
    "\n",
    "Patients may have to wait for a doctor to be available to assess them.\n",
    "\n",
    "When a doctor is available the patients are assessed and assigned to a specialist doctor/consultant according to the previously assigned condition. The number of doctors performing the initial assessment is a variable to be explored with the simulation.\n",
    "\n",
    "Patients may have to wait for a specialist to be available.\n",
    "\n",
    "When a specialist is available the patients are treated. The number of specialists for each category is a variable to be explored by the simulation.\n",
    "\n",
    "It is assumed that no patients need emergency care so there is no need to prioritize them.\n",
    "\n",
    "The clinic is open for 7 hours a day. Staff breaks will be ignored."
   ]
  },
  {
   "cell_type": "code",
   "execution_count": 1,
   "id": "fcb38d25",
   "metadata": {},
   "outputs": [],
   "source": [
    "# import the required libraries\n",
    "import simpy\n",
    "import random\n",
    "import pandas as pd\n",
    "import statistics\n",
    "from matplotlib import pyplot as plt\n",
    "import seaborn as sns\n",
    "import scipy.stats as st"
   ]
  },
  {
   "cell_type": "markdown",
   "id": "5b6acf12",
   "metadata": {},
   "source": [
    "The simulation will explore three primary performance indicators; total number of patients treated, mean patient waiting time and idle time for medical staff.\n",
    "\n",
    "The number of patients that arrive but are not treated (or treatment is not completed) before the clinic closes will also be monitored.\n",
    "\n",
    "Each simulation will be repeated N times and the mean result calculated for each performance indicator."
   ]
  },
  {
   "cell_type": "markdown",
   "id": "a59ca84b",
   "metadata": {},
   "source": [
    "This first iteration of the simulation will explore how many times a simulation needs to be repeated to yield reliable results.\n",
    "\n",
    "Also an exploration of a simple scenario involving the number of patients arriving but not receiving / completing treatment before the clinic closes."
   ]
  },
  {
   "cell_type": "code",
   "execution_count": 2,
   "id": "17b280dd",
   "metadata": {},
   "outputs": [],
   "source": [
    "# The outcomes for each simulation / run of simulations will be saved in lists.\n",
    "total_patients_created = []\n",
    "total_patients_treated = []\n",
    "total_patients_untreated = []\n",
    "    \n",
    "# Patient numbers in each simulation will be saved in global variables\n",
    "sim_patients_created = 0\n",
    "sim_patients_treated = 0\n",
    "    \n",
    "# Mean patient waiting time and staff idle time in each simulation will be saved in a list\n",
    "mean_waiting = []\n",
    "idle_time = []\n",
    "    \n",
    "total_waiting_times = []\n",
    "    \n",
    "# Other outcomes of interest might include\n",
    "# The maximum time any patient has to wait\n",
    "    \n",
    "# The simulation will be repeated N times\n",
    "N = 1"
   ]
  },
  {
   "cell_type": "markdown",
   "id": "6ec032a7",
   "metadata": {},
   "source": [
    "The simulation will include:\n",
    "4 Resources; the doctors conducting the initial assessment and three categories of specialists.\n",
    "\n",
    "The associated parameters are:\n",
    "The arrival rate of the patients.\n",
    "The distribution of the patient health conditions.\n",
    "The distribution of the time required for the initial assessment.\n",
    "The distribution of the time required for the specialist treatment of each condition.\n",
    "\n",
    "Parameters associated with the clinic are:\n",
    "The time that the clinic is open, measured in minutes.\n",
    "The time prior to the clinic closing that new patient arrivals are stopped."
   ]
  },
  {
   "cell_type": "code",
   "execution_count": 3,
   "id": "77a8ae38",
   "metadata": {},
   "outputs": [],
   "source": [
    "# The parameters are:\n",
    "RANDOM_SEED = 6\n",
    "\n",
    "# The maximum number of patients arriving\n",
    "MAX_NUM = 30 # replaced with stop time\n",
    "    \n",
    "# The mean time between patient arrivals (the unit of time used is minutes)\n",
    "arrival_mean = 5\n",
    "    \n",
    "# The distribution of patient health conditions (probability, total sums to 1)\n",
    "# Condition 0 will indicate the patient needs no further treatment\n",
    "# cond_0_prob = 0.1\n",
    "# cond_1_prob = 0.3\n",
    "# cond_2_prob = 0.3\n",
    "# cond_3_prob = 0.3\n",
    "prob_dict = {0: 0.1, 1: 0.3, 2: 0.3, 3: 0.3}\n",
    "    \n",
    "# The mean time and standard deviation for a doctor to perform an initial assessment\n",
    "# Assuming a normal distribution and discounting the minimal possibility of a negative time\n",
    "assess_mean = 5\n",
    "assess_sd = 1\n",
    "    \n",
    "# The mean time and standard deviation for a specialist to treat each health condition\n",
    "# Assuming a normal distribution and discounting the minimal possibility of a negative time\n",
    "special_1_mean = 15\n",
    "special_1_sd = 3\n",
    "    \n",
    "special_2_mean = 15\n",
    "special_2_sd = 3\n",
    "    \n",
    "special_3_mean = 15\n",
    "special_3_sd = 3\n",
    "    \n",
    "# The time the clinic is open for / the simulation runs measured in minutes\n",
    "clinic_time = 420\n",
    "    \n",
    "# New patients will stop being admitted some time prior to the clinic closing\n",
    "stop_period = 20\n",
    "# stop_time = clinic_time - stop_period"
   ]
  },
  {
   "cell_type": "code",
   "execution_count": 4,
   "id": "558d2273",
   "metadata": {},
   "outputs": [],
   "source": [
    "# The variables are:\n",
    "    \n",
    "# The number of doctors performing the initial assessments\n",
    "num_doctors = 1\n",
    "    \n",
    "# The number of specialists treating the patients for each health condition\n",
    "num_special_1 = 1\n",
    "num_special_2 = 1\n",
    "num_special_3 = 1"
   ]
  },
  {
   "cell_type": "code",
   "execution_count": 5,
   "id": "6a2f259d",
   "metadata": {},
   "outputs": [],
   "source": [
    "# Initialise the random number generator to allow results to be reproducible\n",
    "random.seed(RANDOM_SEED)"
   ]
  },
  {
   "cell_type": "code",
   "execution_count": 6,
   "id": "66d6b54b",
   "metadata": {},
   "outputs": [],
   "source": [
    "# Create a function to randomly assign a condition to each patient\n",
    "def assign_condition(prob_dict):\n",
    "    rand_val = random.random()\n",
    "    conditions = list(prob_dict.keys())\n",
    "    probs = list(prob_dict.values())\n",
    "    for i in range(len(conditions)):\n",
    "        if rand_val <= sum(probs[0:i+1]):\n",
    "            return conditions[i]\n",
    "            break"
   ]
  },
  {
   "cell_type": "code",
   "execution_count": 7,
   "id": "c8fd8abe",
   "metadata": {},
   "outputs": [],
   "source": [
    "# Create a function to generate patients\n",
    "def source(env, max_num, arrival_mean, initial_assess, special_1, special_2, special_3,\n",
    "              total_waiting_times, initial_assess_times, special_1_times, special_2_times, special_3_times):\n",
    "    \n",
    "    # create local variable to store number of patients created\n",
    "    patients_created = 0\n",
    "    \n",
    "    # define sim_patients_created as the global variable   \n",
    "    global sim_patients_created\n",
    "        \n",
    "    # generate patients while simulation time is less than stop_time\n",
    "    while env.now < clinic_time - stop_period:\n",
    "            \n",
    "    # generate patients randomly upto the max_num\n",
    "    # for i in range(max_num):\n",
    "            \n",
    "        # create new patient instance\n",
    "        patients_created += 1\n",
    "        sim_patients_created += 1\n",
    "            \n",
    "        # assign a condition to the patient\n",
    "        condition = assign_condition(prob_dict)\n",
    "        \n",
    "        # pass patient to the patient process\n",
    "        p = patient(env, 'patient {}'.format(patients_created), condition, initial_assess, special_1, special_2, special_3,\n",
    "                        total_waiting_times, initial_assess_times, special_1_times, special_2_times, special_3_times)\n",
    "        env.process(p)\n",
    "            \n",
    "        t = random.expovariate(1.0 / arrival_mean)\n",
    "        yield env.timeout(t)"
   ]
  },
  {
   "cell_type": "code",
   "execution_count": 8,
   "id": "9703667a",
   "metadata": {},
   "outputs": [],
   "source": [
    "# Create a function to simulate a patient's journey through clinic\n",
    "def patient(env, name, condition, initial_assess, special_1, special_2, special_3,\n",
    "                total_waiting_times, initial_assess_times, special_1_times, special_2_times, special_3_times):\n",
    "    \n",
    "    # define sim_patients_treated as the global variable\n",
    "    global sim_patients_treated\n",
    "    \n",
    "    # the patients total waiting time will be recorded\n",
    "    patient_total_wait = 0\n",
    "        \n",
    "    # patient arrives\n",
    "    arrive = env.now\n",
    "    # print statements commented out to limit unnecessary output\n",
    "    # print('{arrive} {name} has arrived'.format(arrive=arrive, name=name))\n",
    "        \n",
    "    with initial_assess.request() as req:\n",
    "        yield req\n",
    "                \n",
    "        # patient has been assigned to a doctor for initial assessment\n",
    "        initial_assess_start = env.now\n",
    "        initial_wait = initial_assess_start - arrive\n",
    "        # print statements commented out to limit unnecessary output\n",
    "        # print('{time} {name} waited {wait} for initial assessment'.format(time=initial_assess_start, name=name, wait=initial_wait))\n",
    "        patient_total_wait += initial_wait\n",
    "            \n",
    "        # the initial assessment takes place\n",
    "        initial_assess_time = random.normalvariate(assess_mean, assess_sd)\n",
    "        yield env.timeout(initial_assess_time)\n",
    "        # record the initial assessment time\n",
    "        initial_assess_times.append(initial_assess_time)\n",
    "            \n",
    "        # patient has finished initial asseement\n",
    "        initial_assess_finish = env.now\n",
    "        # print('{time} {name} finished initial assessment'.format(time=initial_assess_finish, name=name))\n",
    "        \n",
    "    # patient either requires specialist treatment or not\n",
    "    if condition == 1:\n",
    "        \n",
    "        with special_1.request() as req:\n",
    "            yield req\n",
    "            \n",
    "            # patient has been assigned to a doctor for specialist treatment\n",
    "            special_1_start = env.now\n",
    "            special_1_wait = special_1_start - initial_assess_finish\n",
    "            # print('{time} {name} waited {wait} for specialist treatment 1'.format(time=special_1_start, name=name, wait=special_1_wait))\n",
    "            patient_total_wait += special_1_wait\n",
    "            \n",
    "            # the specialist treatment takes place\n",
    "            special_1_time = random.normalvariate(special_1_mean, special_1_sd)\n",
    "            yield env.timeout(special_1_time)\n",
    "            # record the special 1 treatment time\n",
    "            special_1_times.append(special_1_time)\n",
    "            \n",
    "            # patient has finished specialist treatment\n",
    "            special_1_finish = env.now\n",
    "            # print('{time} {name} finished specialist treatment 1'.format(time=special_1_finish, name=name))\n",
    "                \n",
    "    elif condition == 2:\n",
    "        \n",
    "        with special_2.request() as req:\n",
    "            yield req\n",
    "            \n",
    "            # patient has been assigned to a doctor for specialist treatment\n",
    "            special_2_start = env.now\n",
    "            special_2_wait = special_2_start - initial_assess_finish\n",
    "            # print('{time} {name} waited {wait} for specialist treatment 2'.format(time=special_2_start, name=name, wait=special_2_wait))\n",
    "            patient_total_wait += special_2_wait\n",
    "            \n",
    "            # the specialist treatment takes place\n",
    "            special_2_time = random.normalvariate(special_2_mean, special_2_sd)\n",
    "            yield env.timeout(special_2_time)\n",
    "            # record the special 2 treatment time\n",
    "            special_2_times.append(special_2_time)\n",
    "            \n",
    "            # patient has finished specialist treatment\n",
    "            special_2_finish = env.now\n",
    "            # print('{time} {name} finished specialist treatment 2'.format(time=special_2_finish, name=name))\n",
    "        \n",
    "    elif condition == 3:\n",
    "        \n",
    "        with special_3.request() as req:\n",
    "            yield req\n",
    "            \n",
    "            # patient has been assigned to a doctor for specialist treatment\n",
    "            special_3_start = env.now\n",
    "            special_3_wait = special_3_start - initial_assess_finish\n",
    "            # print('{time} {name} waited {wait} for specialist treatment 3'.format(time=special_3_start, name=name, wait=special_3_wait))\n",
    "            patient_total_wait += special_3_wait\n",
    "            \n",
    "            # the specialist treatment takes place\n",
    "            special_3_time = random.normalvariate(special_3_mean, special_3_sd)\n",
    "            yield env.timeout(special_3_time)\n",
    "            # record the special 3 treatment time\n",
    "            special_3_times.append(special_3_time)\n",
    "            \n",
    "            # patient has finished specialist treatment\n",
    "            special_3_finish = env.now\n",
    "            # print('{time} {name} finished specialist treatment 3'.format(time=special_3_finish, name=name))\n",
    "    \n",
    "    else:\n",
    "        pass\n",
    "        # print('{time} {name} does not require specialist treatment'.format(time=initial_assess_finish, name=name))\n",
    "        \n",
    "    # the patient's total waiting time is added to a list\n",
    "    total_waiting_times.append(patient_total_wait)\n",
    "        \n",
    "    # the number of patients treated (or not requiring treatment is recorded)\n",
    "    sim_patients_treated += 1"
   ]
  },
  {
   "cell_type": "code",
   "execution_count": 9,
   "id": "3806ff0e",
   "metadata": {},
   "outputs": [],
   "source": [
    "# Create a function to perform a simulation N times\n",
    "    \n",
    "def run_simulation(N):\n",
    "    # confirm global variables\n",
    "    global sim_patients_created\n",
    "    global sim_patients_treated\n",
    "        \n",
    "    # create lists to store results / remove values from previous runs\n",
    "    total_patients_created = []\n",
    "    total_patients_treated = []\n",
    "    total_patients_untreated = []\n",
    "    mean_waiting = []\n",
    "    idle_time = []\n",
    "        \n",
    "    for i in range(N):\n",
    "        # print statements commented out to limit unnecessary output\n",
    "        # print('Start Simulation {}'.format(i))\n",
    "        \n",
    "        # reset variables to count number of patients created and treated\n",
    "        sim_patients_created = 0\n",
    "        sim_patients_treated = 0\n",
    "        \n",
    "        # create list to store simulation waiting times\n",
    "        total_waiting_times = []\n",
    "        \n",
    "        # create lists to store simulation initial assessment times and treatment times\n",
    "        initial_assess_times = []\n",
    "        special_1_times = []\n",
    "        special_2_times = []\n",
    "        special_3_times = []\n",
    "        \n",
    "        # set up the simulation\n",
    "        env = simpy.Environment()\n",
    "        \n",
    "        # start processes and run\n",
    "        initial_assess = simpy.Resource(env, capacity=num_doctors)\n",
    "        special_1 = simpy.Resource(env, capacity=num_special_1)\n",
    "        special_2 = simpy.Resource(env, capacity=num_special_2)\n",
    "        special_3 = simpy.Resource(env, capacity=num_special_3)\n",
    "        env.process(source(env, MAX_NUM, arrival_mean, initial_assess, special_1, special_2, special_3,\n",
    "                                total_waiting_times, initial_assess_times, special_1_times, special_2_times, special_3_times))\n",
    "        env.run(until=clinic_time)\n",
    "        \n",
    "        # save mean waiting time to list\n",
    "        mean_waiting.append(round(statistics.mean(total_waiting_times), 2))\n",
    "        \n",
    "        # save idle time to list\n",
    "        total_staff_time = (num_doctors + num_special_1 + num_special_2 + num_special_3) * clinic_time\n",
    "        total_work_time = sum(initial_assess_times + special_1_times + special_2_times + special_3_times)\n",
    "        idle_time.append(round(total_staff_time - total_work_time, 2))\n",
    "        \n",
    "        # save number of patients created to list\n",
    "        total_patients_created.append(sim_patients_created)\n",
    "        \n",
    "        # save number of patients treated to list\n",
    "        total_patients_treated.append(sim_patients_treated)\n",
    "        \n",
    "        # save number of patients untreated at end of simulation to list\n",
    "        total_patients_untreated.append(sim_patients_created - sim_patients_treated)\n",
    "        \n",
    "    # create results dataframe\n",
    "    sim_run_df = pd.DataFrame(list(zip(total_patients_created, total_patients_treated, total_patients_untreated, \n",
    "                                       mean_waiting, idle_time)),\n",
    "                                 columns=['Patients Created', 'Patients Treated', 'Patients Untreated', \n",
    "                                          'Mean Waiting Time', 'Idle Time'])\n",
    "        \n",
    "    return sim_run_df"
   ]
  },
  {
   "cell_type": "code",
   "execution_count": 10,
   "id": "8ad0c713",
   "metadata": {},
   "outputs": [],
   "source": [
    "# Create a function to draw plots\n",
    "    \n",
    "def draw_sim_plots(sim_df, xlabel):\n",
    "    plt.figure(figsize=(16, 12))\n",
    "    plt.subplot(2, 2, 1)\n",
    "    plt.bar(sim_df.index, sim_df['Patients Created'], alpha=0.5)\n",
    "    plt.bar(sim_df.index, sim_df['Patients Treated'])\n",
    "    plt.xlabel(xlabel)\n",
    "    plt.ylabel('Patients')\n",
    "    plt.title('Patients Created / Treated')\n",
    "    plt.xticks(sim_df.index, sim_df.index)\n",
    "    \n",
    "    plt.subplot(2, 2, 2)\n",
    "    plt.bar(sim_df.index, sim_df['Patients Untreated'])\n",
    "    plt.xlabel(xlabel)\n",
    "    plt.ylabel('Patients')\n",
    "    plt.title('Patients Untreated')\n",
    "    plt.xticks(sim_df.index, sim_df.index)\n",
    "    \n",
    "    plt.subplot(2, 2, 3)\n",
    "    plt.bar(sim_df.index, sim_df['Mean Waiting Time'])\n",
    "    plt.xlabel(xlabel)\n",
    "    plt.ylabel('Time (minutes)')\n",
    "    plt.title('Mean Waiting Time')\n",
    "    plt.xticks(sim_df.index, sim_df.index)\n",
    "    \n",
    "    plt.subplot(2, 2, 4)\n",
    "    plt.bar(sim_df.index, sim_df['Idle Time'])\n",
    "    plt.xlabel(xlabel)\n",
    "    plt.ylabel('Time (minutes)')\n",
    "    plt.title('Staff Idle Time')\n",
    "    plt.xticks(sim_df.index, sim_df.index)\n",
    "    \n",
    "    plt.show()"
   ]
  },
  {
   "cell_type": "markdown",
   "id": "ed04b441",
   "metadata": {},
   "source": [
    "To investigate the simulation I will begin with a simple setup:\n",
    "Patients arrive at mean 5 minute intervals.\n",
    "Patients have equal probability of having each of 3 conditions (there is a 10% chance of not needing treatment).\n",
    "Initial assessment takes a mean of 5 minutes.\n",
    "Specialist treatment takes a mean of 15 minutes.\n",
    "There is one doctor conducting the initial assessments.\n",
    "There is one specialist for each condition.\n",
    "\n",
    "Disregarding random variation this setup has a balance between patient arrivals and the resources (doctors / specialists)."
   ]
  },
  {
   "cell_type": "code",
   "execution_count": 11,
   "id": "c565c4de",
   "metadata": {},
   "outputs": [
    {
     "data": {
      "text/html": [
       "<div>\n",
       "<style scoped>\n",
       "    .dataframe tbody tr th:only-of-type {\n",
       "        vertical-align: middle;\n",
       "    }\n",
       "\n",
       "    .dataframe tbody tr th {\n",
       "        vertical-align: top;\n",
       "    }\n",
       "\n",
       "    .dataframe thead th {\n",
       "        text-align: right;\n",
       "    }\n",
       "</style>\n",
       "<table border=\"1\" class=\"dataframe\">\n",
       "  <thead>\n",
       "    <tr style=\"text-align: right;\">\n",
       "      <th></th>\n",
       "      <th>Patients Created</th>\n",
       "      <th>Patients Treated</th>\n",
       "      <th>Patients Untreated</th>\n",
       "      <th>Mean Waiting Time</th>\n",
       "      <th>Idle Time</th>\n",
       "    </tr>\n",
       "  </thead>\n",
       "  <tbody>\n",
       "    <tr>\n",
       "      <th>0</th>\n",
       "      <td>62</td>\n",
       "      <td>57</td>\n",
       "      <td>5</td>\n",
       "      <td>17.60</td>\n",
       "      <td>575.77</td>\n",
       "    </tr>\n",
       "    <tr>\n",
       "      <th>1</th>\n",
       "      <td>88</td>\n",
       "      <td>74</td>\n",
       "      <td>14</td>\n",
       "      <td>44.68</td>\n",
       "      <td>261.92</td>\n",
       "    </tr>\n",
       "    <tr>\n",
       "      <th>2</th>\n",
       "      <td>86</td>\n",
       "      <td>76</td>\n",
       "      <td>10</td>\n",
       "      <td>38.97</td>\n",
       "      <td>286.31</td>\n",
       "    </tr>\n",
       "    <tr>\n",
       "      <th>3</th>\n",
       "      <td>82</td>\n",
       "      <td>72</td>\n",
       "      <td>10</td>\n",
       "      <td>42.74</td>\n",
       "      <td>285.10</td>\n",
       "    </tr>\n",
       "    <tr>\n",
       "      <th>4</th>\n",
       "      <td>80</td>\n",
       "      <td>74</td>\n",
       "      <td>6</td>\n",
       "      <td>25.68</td>\n",
       "      <td>328.20</td>\n",
       "    </tr>\n",
       "    <tr>\n",
       "      <th>5</th>\n",
       "      <td>75</td>\n",
       "      <td>67</td>\n",
       "      <td>8</td>\n",
       "      <td>30.64</td>\n",
       "      <td>385.07</td>\n",
       "    </tr>\n",
       "    <tr>\n",
       "      <th>6</th>\n",
       "      <td>81</td>\n",
       "      <td>77</td>\n",
       "      <td>4</td>\n",
       "      <td>42.93</td>\n",
       "      <td>264.90</td>\n",
       "    </tr>\n",
       "    <tr>\n",
       "      <th>7</th>\n",
       "      <td>76</td>\n",
       "      <td>68</td>\n",
       "      <td>8</td>\n",
       "      <td>32.73</td>\n",
       "      <td>382.29</td>\n",
       "    </tr>\n",
       "    <tr>\n",
       "      <th>8</th>\n",
       "      <td>79</td>\n",
       "      <td>73</td>\n",
       "      <td>6</td>\n",
       "      <td>36.29</td>\n",
       "      <td>272.38</td>\n",
       "    </tr>\n",
       "    <tr>\n",
       "      <th>9</th>\n",
       "      <td>87</td>\n",
       "      <td>77</td>\n",
       "      <td>10</td>\n",
       "      <td>46.84</td>\n",
       "      <td>224.12</td>\n",
       "    </tr>\n",
       "    <tr>\n",
       "      <th>10</th>\n",
       "      <td>84</td>\n",
       "      <td>74</td>\n",
       "      <td>10</td>\n",
       "      <td>33.30</td>\n",
       "      <td>268.18</td>\n",
       "    </tr>\n",
       "    <tr>\n",
       "      <th>11</th>\n",
       "      <td>87</td>\n",
       "      <td>71</td>\n",
       "      <td>16</td>\n",
       "      <td>26.91</td>\n",
       "      <td>286.80</td>\n",
       "    </tr>\n",
       "    <tr>\n",
       "      <th>12</th>\n",
       "      <td>82</td>\n",
       "      <td>79</td>\n",
       "      <td>3</td>\n",
       "      <td>34.29</td>\n",
       "      <td>252.79</td>\n",
       "    </tr>\n",
       "    <tr>\n",
       "      <th>13</th>\n",
       "      <td>74</td>\n",
       "      <td>72</td>\n",
       "      <td>2</td>\n",
       "      <td>18.03</td>\n",
       "      <td>437.48</td>\n",
       "    </tr>\n",
       "    <tr>\n",
       "      <th>14</th>\n",
       "      <td>86</td>\n",
       "      <td>70</td>\n",
       "      <td>16</td>\n",
       "      <td>67.64</td>\n",
       "      <td>329.71</td>\n",
       "    </tr>\n",
       "    <tr>\n",
       "      <th>15</th>\n",
       "      <td>77</td>\n",
       "      <td>75</td>\n",
       "      <td>2</td>\n",
       "      <td>33.30</td>\n",
       "      <td>342.51</td>\n",
       "    </tr>\n",
       "    <tr>\n",
       "      <th>16</th>\n",
       "      <td>83</td>\n",
       "      <td>70</td>\n",
       "      <td>13</td>\n",
       "      <td>32.90</td>\n",
       "      <td>338.17</td>\n",
       "    </tr>\n",
       "    <tr>\n",
       "      <th>17</th>\n",
       "      <td>79</td>\n",
       "      <td>71</td>\n",
       "      <td>8</td>\n",
       "      <td>38.52</td>\n",
       "      <td>315.78</td>\n",
       "    </tr>\n",
       "    <tr>\n",
       "      <th>18</th>\n",
       "      <td>93</td>\n",
       "      <td>74</td>\n",
       "      <td>19</td>\n",
       "      <td>71.50</td>\n",
       "      <td>253.48</td>\n",
       "    </tr>\n",
       "    <tr>\n",
       "      <th>19</th>\n",
       "      <td>66</td>\n",
       "      <td>66</td>\n",
       "      <td>0</td>\n",
       "      <td>13.61</td>\n",
       "      <td>533.92</td>\n",
       "    </tr>\n",
       "  </tbody>\n",
       "</table>\n",
       "</div>"
      ],
      "text/plain": [
       "    Patients Created  Patients Treated  Patients Untreated  Mean Waiting Time  \\\n",
       "0                 62                57                   5              17.60   \n",
       "1                 88                74                  14              44.68   \n",
       "2                 86                76                  10              38.97   \n",
       "3                 82                72                  10              42.74   \n",
       "4                 80                74                   6              25.68   \n",
       "5                 75                67                   8              30.64   \n",
       "6                 81                77                   4              42.93   \n",
       "7                 76                68                   8              32.73   \n",
       "8                 79                73                   6              36.29   \n",
       "9                 87                77                  10              46.84   \n",
       "10                84                74                  10              33.30   \n",
       "11                87                71                  16              26.91   \n",
       "12                82                79                   3              34.29   \n",
       "13                74                72                   2              18.03   \n",
       "14                86                70                  16              67.64   \n",
       "15                77                75                   2              33.30   \n",
       "16                83                70                  13              32.90   \n",
       "17                79                71                   8              38.52   \n",
       "18                93                74                  19              71.50   \n",
       "19                66                66                   0              13.61   \n",
       "\n",
       "    Idle Time  \n",
       "0      575.77  \n",
       "1      261.92  \n",
       "2      286.31  \n",
       "3      285.10  \n",
       "4      328.20  \n",
       "5      385.07  \n",
       "6      264.90  \n",
       "7      382.29  \n",
       "8      272.38  \n",
       "9      224.12  \n",
       "10     268.18  \n",
       "11     286.80  \n",
       "12     252.79  \n",
       "13     437.48  \n",
       "14     329.71  \n",
       "15     342.51  \n",
       "16     338.17  \n",
       "17     315.78  \n",
       "18     253.48  \n",
       "19     533.92  "
      ]
     },
     "execution_count": 11,
     "metadata": {},
     "output_type": "execute_result"
    }
   ],
   "source": [
    "# Run the simulation 20 times.\n",
    "sim_20_01 = run_simulation(20)\n",
    "\n",
    "sim_20_01"
   ]
  },
  {
   "cell_type": "code",
   "execution_count": 12,
   "id": "634fe98d",
   "metadata": {},
   "outputs": [
    {
     "data": {
      "image/png": "[encoded data removed]",
      "text/plain": [
       "<Figure size 1152x864 with 4 Axes>"
      ]
     },
     "metadata": {
      "needs_background": "light"
     },
     "output_type": "display_data"
    }
   ],
   "source": [
    "# plot results\n",
    "draw_sim_plots(sim_20_01, 'Simulation')"
   ]
  },
  {
   "cell_type": "code",
   "execution_count": 13,
   "id": "b66cf60f",
   "metadata": {},
   "outputs": [
    {
     "data": {
      "text/plain": [
       "Patients Created       80.350\n",
       "Patients Treated       71.850\n",
       "Patients Untreated      8.500\n",
       "Mean Waiting Time      36.455\n",
       "Idle Time             331.244\n",
       "dtype: float64"
      ]
     },
     "execution_count": 13,
     "metadata": {},
     "output_type": "execute_result"
    }
   ],
   "source": [
    "# calculate the mean values for the simulations\n",
    "sim_20_01.mean()"
   ]
  },
  {
   "cell_type": "code",
   "execution_count": 14,
   "id": "cb8ce31d",
   "metadata": {},
   "outputs": [
    {
     "data": {
      "text/plain": [
       "Patients Created       7.407500\n",
       "Patients Treated       4.880412\n",
       "Patients Untreated     5.206272\n",
       "Mean Waiting Time     14.468141\n",
       "Idle Time             93.057989\n",
       "dtype: float64"
      ]
     },
     "execution_count": 14,
     "metadata": {},
     "output_type": "execute_result"
    }
   ],
   "source": [
    "# calculate the standard deviation for the simulations\n",
    "sim_20_01.std()"
   ]
  },
  {
   "cell_type": "markdown",
   "id": "359c1d49",
   "metadata": {},
   "source": [
    "From the plots we can see there is considerable variation in results between simulations.\n",
    "\n",
    "With an arrival rate of 1/5 and a patient arriving at 0.0 we would expect 81 patients to arrive in 400 minutes (420 - 20 stop time). The mean is 80.350. The maximum observed was 93 and the minimum 62.\n",
    "\n",
    "There is less variation in the numbers of Patients Treated.\n",
    "\n",
    "Compared to the mean value there is considerably more variation in the number of Patients Untreated, a mean of 8.5 with a standard deviation of 5.2.\n",
    "\n",
    "Relative to their mean values, Mean Waiting Time and Idle Time have similar standard deviations."
   ]
  },
  {
   "cell_type": "code",
   "execution_count": 15,
   "id": "10b73ed3",
   "metadata": {},
   "outputs": [],
   "source": [
    "# Repeat running the simulation 20 times to check if results are consistant\n",
    "sim_20_02 = run_simulation(20)\n",
    "sim_20_03 = run_simulation(20)\n",
    "sim_20_04 = run_simulation(20)\n",
    "sim_20_05 = run_simulation(20)"
   ]
  },
  {
   "cell_type": "code",
   "execution_count": 16,
   "id": "83321048",
   "metadata": {},
   "outputs": [
    {
     "data": {
      "image/png": "[encoded data removed]",
      "text/plain": [
       "<Figure size 1152x864 with 4 Axes>"
      ]
     },
     "metadata": {
      "needs_background": "light"
     },
     "output_type": "display_data"
    }
   ],
   "source": [
    "# Plot the results for the different simulation runs\n",
    "data = [list(sim_20_01.mean()), list(sim_20_02.mean()), list(sim_20_03.mean()), \n",
    "        list(sim_20_04.mean()), list(sim_20_05.mean())]\n",
    "    \n",
    "result_df = pd.DataFrame(data, columns=sim_20_01.columns)\n",
    "    \n",
    "draw_sim_plots(result_df, 'Simulation Run')"
   ]
  },
  {
   "cell_type": "code",
   "execution_count": 17,
   "id": "790af5c2",
   "metadata": {},
   "outputs": [
    {
     "data": {
      "text/html": [
       "<div>\n",
       "<style scoped>\n",
       "    .dataframe tbody tr th:only-of-type {\n",
       "        vertical-align: middle;\n",
       "    }\n",
       "\n",
       "    .dataframe tbody tr th {\n",
       "        vertical-align: top;\n",
       "    }\n",
       "\n",
       "    .dataframe thead th {\n",
       "        text-align: right;\n",
       "    }\n",
       "</style>\n",
       "<table border=\"1\" class=\"dataframe\">\n",
       "  <thead>\n",
       "    <tr style=\"text-align: right;\">\n",
       "      <th></th>\n",
       "      <th>Patients Created</th>\n",
       "      <th>Patients Treated</th>\n",
       "      <th>Patients Untreated</th>\n",
       "      <th>Mean Waiting Time</th>\n",
       "      <th>Idle Time</th>\n",
       "    </tr>\n",
       "  </thead>\n",
       "  <tbody>\n",
       "    <tr>\n",
       "      <th>0</th>\n",
       "      <td>80.35</td>\n",
       "      <td>71.85</td>\n",
       "      <td>8.50</td>\n",
       "      <td>36.4550</td>\n",
       "      <td>331.244</td>\n",
       "    </tr>\n",
       "    <tr>\n",
       "      <th>1</th>\n",
       "      <td>79.20</td>\n",
       "      <td>69.40</td>\n",
       "      <td>9.80</td>\n",
       "      <td>35.9915</td>\n",
       "      <td>391.761</td>\n",
       "    </tr>\n",
       "    <tr>\n",
       "      <th>2</th>\n",
       "      <td>79.60</td>\n",
       "      <td>70.65</td>\n",
       "      <td>8.95</td>\n",
       "      <td>30.1100</td>\n",
       "      <td>352.272</td>\n",
       "    </tr>\n",
       "    <tr>\n",
       "      <th>3</th>\n",
       "      <td>82.00</td>\n",
       "      <td>70.40</td>\n",
       "      <td>11.60</td>\n",
       "      <td>38.3310</td>\n",
       "      <td>339.529</td>\n",
       "    </tr>\n",
       "    <tr>\n",
       "      <th>4</th>\n",
       "      <td>78.55</td>\n",
       "      <td>70.05</td>\n",
       "      <td>8.50</td>\n",
       "      <td>32.1020</td>\n",
       "      <td>367.821</td>\n",
       "    </tr>\n",
       "  </tbody>\n",
       "</table>\n",
       "</div>"
      ],
      "text/plain": [
       "   Patients Created  Patients Treated  Patients Untreated  Mean Waiting Time  \\\n",
       "0             80.35             71.85                8.50            36.4550   \n",
       "1             79.20             69.40                9.80            35.9915   \n",
       "2             79.60             70.65                8.95            30.1100   \n",
       "3             82.00             70.40               11.60            38.3310   \n",
       "4             78.55             70.05                8.50            32.1020   \n",
       "\n",
       "   Idle Time  \n",
       "0    331.244  \n",
       "1    391.761  \n",
       "2    352.272  \n",
       "3    339.529  \n",
       "4    367.821  "
      ]
     },
     "execution_count": 17,
     "metadata": {},
     "output_type": "execute_result"
    }
   ],
   "source": [
    "# Review the mean values for each 20 run simulation\n",
    "result_df"
   ]
  },
  {
   "cell_type": "code",
   "execution_count": 18,
   "id": "f8527324",
   "metadata": {},
   "outputs": [
    {
     "data": {
      "text/plain": [
       "Patients Created       1.323537\n",
       "Patients Treated       0.903189\n",
       "Patients Untreated     1.303649\n",
       "Mean Waiting Time      3.380005\n",
       "Idle Time             24.058555\n",
       "dtype: float64"
      ]
     },
     "execution_count": 18,
     "metadata": {},
     "output_type": "execute_result"
    }
   ],
   "source": [
    "# Review the standard deviations of the mean values\n",
    "result_df.std()"
   ]
  },
  {
   "cell_type": "markdown",
   "id": "d8aa3bab",
   "metadata": {},
   "source": [
    "From the results of running the simulation 20 times repeatedly we see that there is some variation of mean outcomes.\n",
    "\n",
    "As noted after the first simulation run the most variance is observed in the Patients Untreated, Mean Waiting Time and Idle Time."
   ]
  },
  {
   "cell_type": "code",
   "execution_count": 19,
   "id": "fe3998c5",
   "metadata": {},
   "outputs": [],
   "source": [
    "# Try running the simulation 50 times\n",
    "sim_50_01 = run_simulation(50)\n",
    "sim_50_02 = run_simulation(50)\n",
    "sim_50_03 = run_simulation(50)\n",
    "sim_50_04 = run_simulation(50)\n",
    "sim_50_05 = run_simulation(50)"
   ]
  },
  {
   "cell_type": "code",
   "execution_count": 20,
   "id": "d79bb3cb",
   "metadata": {},
   "outputs": [
    {
     "data": {
      "image/png": "[encoded data removed]",
      "text/plain": [
       "<Figure size 1152x864 with 4 Axes>"
      ]
     },
     "metadata": {
      "needs_background": "light"
     },
     "output_type": "display_data"
    }
   ],
   "source": [
    "# Plot the results for the different simulation runs\n",
    "data = [list(sim_50_01.mean()), list(sim_50_02.mean()), list(sim_50_03.mean()), \n",
    "        list(sim_50_04.mean()), list(sim_50_05.mean())]\n",
    "    \n",
    "result_50_df = pd.DataFrame(data, columns=sim_50_01.columns)\n",
    "    \n",
    "draw_sim_plots(result_50_df, 'Simulation Run (50)')"
   ]
  },
  {
   "cell_type": "code",
   "execution_count": 21,
   "id": "5e3c6fca",
   "metadata": {},
   "outputs": [
    {
     "data": {
      "text/html": [
       "<div>\n",
       "<style scoped>\n",
       "    .dataframe tbody tr th:only-of-type {\n",
       "        vertical-align: middle;\n",
       "    }\n",
       "\n",
       "    .dataframe tbody tr th {\n",
       "        vertical-align: top;\n",
       "    }\n",
       "\n",
       "    .dataframe thead th {\n",
       "        text-align: right;\n",
       "    }\n",
       "</style>\n",
       "<table border=\"1\" class=\"dataframe\">\n",
       "  <thead>\n",
       "    <tr style=\"text-align: right;\">\n",
       "      <th></th>\n",
       "      <th>Patients Created</th>\n",
       "      <th>Patients Treated</th>\n",
       "      <th>Patients Untreated</th>\n",
       "      <th>Mean Waiting Time</th>\n",
       "      <th>Idle Time</th>\n",
       "    </tr>\n",
       "  </thead>\n",
       "  <tbody>\n",
       "    <tr>\n",
       "      <th>0</th>\n",
       "      <td>82.42</td>\n",
       "      <td>71.18</td>\n",
       "      <td>11.24</td>\n",
       "      <td>33.9036</td>\n",
       "      <td>342.0456</td>\n",
       "    </tr>\n",
       "    <tr>\n",
       "      <th>1</th>\n",
       "      <td>81.26</td>\n",
       "      <td>71.36</td>\n",
       "      <td>9.90</td>\n",
       "      <td>34.1646</td>\n",
       "      <td>336.2272</td>\n",
       "    </tr>\n",
       "    <tr>\n",
       "      <th>2</th>\n",
       "      <td>80.86</td>\n",
       "      <td>70.50</td>\n",
       "      <td>10.36</td>\n",
       "      <td>31.7598</td>\n",
       "      <td>355.2836</td>\n",
       "    </tr>\n",
       "    <tr>\n",
       "      <th>3</th>\n",
       "      <td>81.72</td>\n",
       "      <td>71.02</td>\n",
       "      <td>10.70</td>\n",
       "      <td>32.1358</td>\n",
       "      <td>352.7606</td>\n",
       "    </tr>\n",
       "    <tr>\n",
       "      <th>4</th>\n",
       "      <td>79.24</td>\n",
       "      <td>69.40</td>\n",
       "      <td>9.84</td>\n",
       "      <td>32.3352</td>\n",
       "      <td>368.4200</td>\n",
       "    </tr>\n",
       "  </tbody>\n",
       "</table>\n",
       "</div>"
      ],
      "text/plain": [
       "   Patients Created  Patients Treated  Patients Untreated  Mean Waiting Time  \\\n",
       "0             82.42             71.18               11.24            33.9036   \n",
       "1             81.26             71.36                9.90            34.1646   \n",
       "2             80.86             70.50               10.36            31.7598   \n",
       "3             81.72             71.02               10.70            32.1358   \n",
       "4             79.24             69.40                9.84            32.3352   \n",
       "\n",
       "   Idle Time  \n",
       "0   342.0456  \n",
       "1   336.2272  \n",
       "2   355.2836  \n",
       "3   352.7606  \n",
       "4   368.4200  "
      ]
     },
     "execution_count": 21,
     "metadata": {},
     "output_type": "execute_result"
    }
   ],
   "source": [
    "result_50_df"
   ]
  },
  {
   "cell_type": "code",
   "execution_count": 22,
   "id": "c1d962c3",
   "metadata": {},
   "outputs": [
    {
     "data": {
      "text/plain": [
       "Patients Created       81.1000\n",
       "Patients Treated       70.6920\n",
       "Patients Untreated     10.4080\n",
       "Mean Waiting Time      32.8598\n",
       "Idle Time             350.9474\n",
       "dtype: float64"
      ]
     },
     "execution_count": 22,
     "metadata": {},
     "output_type": "execute_result"
    }
   ],
   "source": [
    "result_50_df.mean()"
   ]
  },
  {
   "cell_type": "code",
   "execution_count": 23,
   "id": "7eada0a8",
   "metadata": {},
   "outputs": [
    {
     "data": {
      "text/plain": [
       "Patients Created       1.190546\n",
       "Patients Treated       0.790266\n",
       "Patients Untreated     0.583198\n",
       "Mean Waiting Time      1.095605\n",
       "Idle Time             12.483073\n",
       "dtype: float64"
      ]
     },
     "execution_count": 23,
     "metadata": {},
     "output_type": "execute_result"
    }
   ],
   "source": [
    "result_50_df.std()"
   ]
  },
  {
   "cell_type": "code",
   "execution_count": 24,
   "id": "a7d83488",
   "metadata": {},
   "outputs": [],
   "source": [
    "# Try running the simulation 100 times\n",
    "sim_100_01 = run_simulation(100)\n",
    "sim_100_02 = run_simulation(100)\n",
    "sim_100_03 = run_simulation(100)\n",
    "sim_100_04 = run_simulation(100)\n",
    "sim_100_05 = run_simulation(100)"
   ]
  },
  {
   "cell_type": "code",
   "execution_count": 25,
   "id": "23ba3cce",
   "metadata": {},
   "outputs": [
    {
     "data": {
      "image/png": "[encoded data removed]",
      "text/plain": [
       "<Figure size 1152x864 with 4 Axes>"
      ]
     },
     "metadata": {
      "needs_background": "light"
     },
     "output_type": "display_data"
    }
   ],
   "source": [
    "# Plot the results for the different simulation runs\n",
    "data = [list(sim_100_01.mean()), list(sim_100_02.mean()), list(sim_100_03.mean()), \n",
    "        list(sim_100_04.mean()), list(sim_100_05.mean())]\n",
    "    \n",
    "result_100_df = pd.DataFrame(data, columns=sim_100_01.columns)\n",
    "    \n",
    "draw_sim_plots(result_100_df, 'Simulation Run (100)')"
   ]
  },
  {
   "cell_type": "code",
   "execution_count": 26,
   "id": "157f462a",
   "metadata": {},
   "outputs": [
    {
     "data": {
      "text/html": [
       "<div>\n",
       "<style scoped>\n",
       "    .dataframe tbody tr th:only-of-type {\n",
       "        vertical-align: middle;\n",
       "    }\n",
       "\n",
       "    .dataframe tbody tr th {\n",
       "        vertical-align: top;\n",
       "    }\n",
       "\n",
       "    .dataframe thead th {\n",
       "        text-align: right;\n",
       "    }\n",
       "</style>\n",
       "<table border=\"1\" class=\"dataframe\">\n",
       "  <thead>\n",
       "    <tr style=\"text-align: right;\">\n",
       "      <th></th>\n",
       "      <th>Patients Created</th>\n",
       "      <th>Patients Treated</th>\n",
       "      <th>Patients Untreated</th>\n",
       "      <th>Mean Waiting Time</th>\n",
       "      <th>Idle Time</th>\n",
       "    </tr>\n",
       "  </thead>\n",
       "  <tbody>\n",
       "    <tr>\n",
       "      <th>0</th>\n",
       "      <td>82.62</td>\n",
       "      <td>70.84</td>\n",
       "      <td>11.78</td>\n",
       "      <td>35.3953</td>\n",
       "      <td>349.9325</td>\n",
       "    </tr>\n",
       "    <tr>\n",
       "      <th>1</th>\n",
       "      <td>80.94</td>\n",
       "      <td>70.25</td>\n",
       "      <td>10.69</td>\n",
       "      <td>33.2927</td>\n",
       "      <td>359.5820</td>\n",
       "    </tr>\n",
       "    <tr>\n",
       "      <th>2</th>\n",
       "      <td>81.93</td>\n",
       "      <td>70.82</td>\n",
       "      <td>11.11</td>\n",
       "      <td>35.9836</td>\n",
       "      <td>344.8677</td>\n",
       "    </tr>\n",
       "    <tr>\n",
       "      <th>3</th>\n",
       "      <td>80.79</td>\n",
       "      <td>70.23</td>\n",
       "      <td>10.56</td>\n",
       "      <td>33.0810</td>\n",
       "      <td>357.5391</td>\n",
       "    </tr>\n",
       "    <tr>\n",
       "      <th>4</th>\n",
       "      <td>81.50</td>\n",
       "      <td>71.10</td>\n",
       "      <td>10.40</td>\n",
       "      <td>34.0747</td>\n",
       "      <td>344.2388</td>\n",
       "    </tr>\n",
       "  </tbody>\n",
       "</table>\n",
       "</div>"
      ],
      "text/plain": [
       "   Patients Created  Patients Treated  Patients Untreated  Mean Waiting Time  \\\n",
       "0             82.62             70.84               11.78            35.3953   \n",
       "1             80.94             70.25               10.69            33.2927   \n",
       "2             81.93             70.82               11.11            35.9836   \n",
       "3             80.79             70.23               10.56            33.0810   \n",
       "4             81.50             71.10               10.40            34.0747   \n",
       "\n",
       "   Idle Time  \n",
       "0   349.9325  \n",
       "1   359.5820  \n",
       "2   344.8677  \n",
       "3   357.5391  \n",
       "4   344.2388  "
      ]
     },
     "execution_count": 26,
     "metadata": {},
     "output_type": "execute_result"
    }
   ],
   "source": [
    "result_100_df"
   ]
  },
  {
   "cell_type": "code",
   "execution_count": 27,
   "id": "2dfb034a",
   "metadata": {},
   "outputs": [
    {
     "data": {
      "text/plain": [
       "Patients Created       81.55600\n",
       "Patients Treated       70.64800\n",
       "Patients Untreated     10.90800\n",
       "Mean Waiting Time      34.36546\n",
       "Idle Time             351.23202\n",
       "dtype: float64"
      ]
     },
     "execution_count": 27,
     "metadata": {},
     "output_type": "execute_result"
    }
   ],
   "source": [
    "result_100_df.mean()"
   ]
  },
  {
   "cell_type": "code",
   "execution_count": 28,
   "id": "811fef5a",
   "metadata": {},
   "outputs": [
    {
     "data": {
      "text/plain": [
       "Patients Created      0.748552\n",
       "Patients Treated      0.388549\n",
       "Patients Untreated    0.554049\n",
       "Mean Waiting Time     1.281029\n",
       "Idle Time             7.081664\n",
       "dtype: float64"
      ]
     },
     "execution_count": 28,
     "metadata": {},
     "output_type": "execute_result"
    }
   ],
   "source": [
    "result_100_df.std()"
   ]
  },
  {
   "cell_type": "markdown",
   "id": "602735a1",
   "metadata": {},
   "source": [
    "Running the simulation first 50 times and then 100 times we see a substantial reduction in variation of the mean outcomes at 50 and a slight further reduction at 100. The most variance relatively is still observed in the Patients Untreated outcome, which also showed the least reduction in variance between running the simulation 50 and 100 times."
   ]
  },
  {
   "cell_type": "markdown",
   "id": "3c8fb8e8",
   "metadata": {},
   "source": [
    "To investigate the reliability of the results further we can calculate confidence intervals for the population means from a large sample of simulation runs. With a large sample we can assume a normal distribution."
   ]
  },
  {
   "cell_type": "code",
   "execution_count": 29,
   "id": "b7812555",
   "metadata": {},
   "outputs": [
    {
     "data": {
      "text/plain": [
       "Patients Created       80.36400\n",
       "Patients Treated       69.82400\n",
       "Patients Untreated     10.54000\n",
       "Mean Waiting Time      32.33960\n",
       "Idle Time             367.06776\n",
       "dtype: float64"
      ]
     },
     "execution_count": 29,
     "metadata": {},
     "output_type": "execute_result"
    }
   ],
   "source": [
    "# Calculate a confidence interval using a large sample (250 simulation runs)\n",
    "\n",
    "# Run the simulation 250 times\n",
    "sim_250 = run_simulation(250)\n",
    "\n",
    "# Calculate the mean values for the large dataset\n",
    "sim_250.mean()"
   ]
  },
  {
   "cell_type": "code",
   "execution_count": 30,
   "id": "691d2ed1",
   "metadata": {},
   "outputs": [
    {
     "data": {
      "text/plain": [
       "Patients Created       9.021589\n",
       "Patients Treated       4.644060\n",
       "Patients Untreated     6.640541\n",
       "Mean Waiting Time     14.461843\n",
       "Idle Time             95.104823\n",
       "dtype: float64"
      ]
     },
     "execution_count": 30,
     "metadata": {},
     "output_type": "execute_result"
    }
   ],
   "source": [
    "# Calculate the standard deviation for the large dataset\n",
    "sim_250.std()"
   ]
  },
  {
   "cell_type": "code",
   "execution_count": 31,
   "id": "5784a689",
   "metadata": {},
   "outputs": [
    {
     "name": "stdout",
     "output_type": "stream",
     "text": [
      "Large dataset - Patients Untreated Confidence Interval:  (9.716845113101455, 11.363154886898544)\n",
      "Large dataset - Mean Waiting Time Confidence Interval:  (30.546924294226176, 34.132275705773814)\n",
      "Large dataset - Idle Time Confidence Interval:  (355.2786606578753, 378.8568593421247)\n"
     ]
    }
   ],
   "source": [
    "# Calculate 95% confidence intervals for the large dataset\n",
    "Patients_Untreated_CI = st.norm.interval(alpha=0.95, loc=sim_250['Patients Untreated'].mean(), \n",
    "                                    scale=st.sem(sim_250['Patients Untreated']))\n",
    "\n",
    "Mean_Waiting_CI = st.norm.interval(alpha=0.95, loc=sim_250['Mean Waiting Time'].mean(),\n",
    "                                  scale=st.sem(sim_250['Mean Waiting Time']))\n",
    "\n",
    "Idle_Time_CI = st.norm.interval(alpha=0.95, loc=sim_250['Idle Time'].mean(),\n",
    "                               scale=st.sem(sim_250['Idle Time']))\n",
    "\n",
    "print('Large dataset - Patients Untreated Confidence Interval: ', Patients_Untreated_CI)\n",
    "print('Large dataset - Mean Waiting Time Confidence Interval: ', Mean_Waiting_CI)\n",
    "print('Large dataset - Idle Time Confidence Interval: ', Idle_Time_CI)"
   ]
  },
  {
   "cell_type": "markdown",
   "id": "ce209bb4",
   "metadata": {},
   "source": [
    "Given this sample of 250 simulations we have plausible ranges for the population means of:\n",
    "Patients Untreated: (9.72, 11.36)\n",
    "Mean Waiting Time: (30.55, 34.13)\n",
    "Idle Time: (355.28, 378.86)"
   ]
  },
  {
   "cell_type": "markdown",
   "id": "2b5071ab",
   "metadata": {},
   "source": [
    "Comparing the confidence intervals to the results from the 100 runs we see that there are some noticeable differences.\n",
    "\n",
    "Four of the five observed Patients Untreated means are within the confidence interval. The highest mean Patients Untreated observed in the 100 runs was 11.78, which is outside the confidence interval by approximately 0.4. The confidence interval lower bound is 0.7 below the lowest observed mean.\n",
    "\n",
    "Three of the five observed Mean Waiting Time means are within the confidence interval. The remaining two are greater than the upper bound of the confidence interval (the highest is 35.98). The lower bound of the confidence interval is 2.5 below than the lowest observed mean.\n",
    "\n",
    "Only two of the five observed Idle Time means are within the confidence interval. The remaining three are all below the lower bound of the confidence interval. The lowest observed value is 344.2. The highest observed value was 359.6 which is approximately 29 lower than the upper bound of the confidence interval and only 4 above the lower bound.\n",
    "\n",
    "From these results we can infer there is still significant variation in the results of the 100 simulation runs. The Patients Untreated mean from sim_100_01 appears to be unusually high.\n",
    "\n",
    "It is also possible that 250 simulation runs are not enough to ensure the results are not affected by unusual results. The Mean Waiting Time mean from the 250 runs is 32.34 which is lower than all five 100 run results. That accounts for why two 100 run values are above the confidence interval upper bound. The Idle Time is negatively correlated with the Mean Waiting Time so that also explains why the 100 run values are generally low in comparison to the confidence interval."
   ]
  },
  {
   "cell_type": "markdown",
   "id": "2a1b689d",
   "metadata": {},
   "source": [
    "To have confidence in the usefulness of the results for a particular application we can calculate an approximate sample size required.\n",
    "We can assume the sample means are normally distributed due to the Central Limit Theorem.\n",
    "The parameters used to determine the sample size are:\n",
    "    the standard deviation of the population which will be estimated using a sample standard deviation (std_dev),\n",
    "    the maximum desired error of estimation (bound),\n",
    "    the probability that the error of estimation will be less than the maximum desired (prob)."
   ]
  },
  {
   "cell_type": "code",
   "execution_count": 32,
   "id": "97580075",
   "metadata": {},
   "outputs": [],
   "source": [
    "# Create a function to calculate a sample size n\n",
    "def calculate_n(std_dev, bound, prob):\n",
    "    alpha = 1 - prob\n",
    "    z = st.norm.ppf(1-(alpha/2))\n",
    "    n = (z / bound)**2 * std_dev**2\n",
    "    return print('The required sample size is approximately: ', round(n, 0))"
   ]
  },
  {
   "cell_type": "markdown",
   "id": "8adad110",
   "metadata": {},
   "source": [
    "We can test whether 100 simulation runs are appropriate in a variety of situations.\n",
    "We will use the standard deviations of the 250 run sample to estimate the population standard deviations.\n",
    "\n",
    "First, suppose we want to investigate the Mean Waiting Time and want the results to be within 3 minutes of the population mean with 0.95 probability. "
   ]
  },
  {
   "cell_type": "code",
   "execution_count": 33,
   "id": "123e571b",
   "metadata": {},
   "outputs": [
    {
     "name": "stdout",
     "output_type": "stream",
     "text": [
      "The required sample size is approximately:  89.0\n"
     ]
    }
   ],
   "source": [
    "# Calculate the required sample size for Mean Waiting Time with bound = 3, and probability = 0.95.\n",
    "calculate_n(14.46, 3, 0.95)"
   ]
  },
  {
   "cell_type": "markdown",
   "id": "e8ca0a1c",
   "metadata": {},
   "source": [
    "Next, suppose we want to investigate the Patients Untreated and want the results to be within 0.5 of the population mean with 0.9 probability."
   ]
  },
  {
   "cell_type": "code",
   "execution_count": 34,
   "id": "e232bfd1",
   "metadata": {},
   "outputs": [
    {
     "name": "stdout",
     "output_type": "stream",
     "text": [
      "The required sample size is approximately:  677.0\n"
     ]
    }
   ],
   "source": [
    "# Calculate the required sample size for Patients Untreated with bound = 0.5, and probability = 0.9.\n",
    "calculate_n(6.64, 0.5, 0.95)"
   ]
  },
  {
   "cell_type": "markdown",
   "id": "0e39a598",
   "metadata": {},
   "source": [
    "Increasing the bound to 1 and decreasing the the probability of the sample mean being within the bound of the population mean will reduce the sample size required. "
   ]
  },
  {
   "cell_type": "code",
   "execution_count": 35,
   "id": "0e52a5f6",
   "metadata": {},
   "outputs": [
    {
     "name": "stdout",
     "output_type": "stream",
     "text": [
      "The required sample size is approximately:  119.0\n"
     ]
    }
   ],
   "source": [
    "# Calculate the required sample size for Patients Untreated with bound = 1.0 and probability = 0.9.\n",
    "calculate_n(6.64, 1, 0.9)"
   ]
  },
  {
   "cell_type": "markdown",
   "id": "fe816d67",
   "metadata": {},
   "source": [
    "Finally, suppose we want to investigate the Idle Time and want the results to be within 30 minutes of the population mean with 0.99 probability. "
   ]
  },
  {
   "cell_type": "code",
   "execution_count": 36,
   "id": "fb064023",
   "metadata": {},
   "outputs": [
    {
     "name": "stdout",
     "output_type": "stream",
     "text": [
      "The required sample size is approximately:  67.0\n"
     ]
    }
   ],
   "source": [
    "# Calculate the required sample size for Idle Time with bound = 30 and probability = 0.99.\n",
    "calculate_n(95.10, 30, 0.99)"
   ]
  },
  {
   "cell_type": "markdown",
   "id": "b2e4ce04",
   "metadata": {},
   "source": [
    "Hence we can be reasonably confident that the 100 simulation runs will produce useful estimates of the population means provided a high degree of accuracy is not required. Estimating the Patients Untreated is perhaps the most problematic since the standard deviation is relatively high compared to the mean value."
   ]
  },
  {
   "cell_type": "markdown",
   "id": "155d932a",
   "metadata": {},
   "source": [
    "In the above simulation runs we observed mean values for Patients Untreated between 10.40 and 11.78. Ideally no patients would need to be turned away without receiving treatment after waiting for some time. So a parameter of interest is the stop time for new patient arrivals.\n",
    "\n",
    "Suppose the clinic manager determined that they should aim for less than 1 patient turned away without treatment on average. To achieve that the manager decides to change the stop time for new arrivals. Hence the target for Patients Untreated is < 1 and stop_period will be changed. All other parameters and variables will remain unchanged.\n",
    "\n",
    "The default value used in the above simulation runs was 20 minutes (before the clinic closed).\n",
    "Intuitively with patients arriving at a mean rate of 1/5 it is likely to require the stop time to be increased by 50 minutes to reduce the Patients Untreated to less than 1 from approximately 11.\n",
    "\n",
    "Initially I will try stop_period values 20, 40, 60, 80, 100, 120 minutes.\n",
    "\n",
    "To calculate the approximate sample size required I will assume we want the results to be within 0.75 of the population mean with probability 0.9. I will use the standard deviation of the 250 run sample as an estimate of the population mean."
   ]
  },
  {
   "cell_type": "code",
   "execution_count": 38,
   "id": "e8c07059",
   "metadata": {},
   "outputs": [
    {
     "name": "stdout",
     "output_type": "stream",
     "text": [
      "The required sample size is approximately:  212.0\n"
     ]
    }
   ],
   "source": [
    "# Calculate the required sample size for Patients Untreated with bound = 0.75 and probability = 0.9.\n",
    "calculate_n(6.64, 0.75, 0.9)"
   ]
  },
  {
   "cell_type": "markdown",
   "id": "b30eeaf3",
   "metadata": {},
   "source": [
    "Hence we will use a sample size of 215."
   ]
  },
  {
   "cell_type": "code",
   "execution_count": 39,
   "id": "a47b6d31",
   "metadata": {},
   "outputs": [],
   "source": [
    "# Repeat simulation runs with different stop times\n",
    "stop_period = 20\n",
    "sim_st20 = run_simulation(215)\n",
    "\n",
    "stop_period = 40\n",
    "sim_st40 = run_simulation(215)\n",
    "\n",
    "stop_period = 60\n",
    "sim_st60 = run_simulation(215)\n",
    "\n",
    "stop_period = 80\n",
    "sim_st80 = run_simulation(215)\n",
    "\n",
    "stop_period = 100\n",
    "sim_st100 = run_simulation(215)\n",
    "\n",
    "stop_period = 120\n",
    "sim_st120 = run_simulation(215)"
   ]
  },
  {
   "cell_type": "code",
   "execution_count": 40,
   "id": "e762e384",
   "metadata": {},
   "outputs": [
    {
     "data": {
      "image/png": "[encoded data removed]",
      "text/plain": [
       "<Figure size 1152x864 with 4 Axes>"
      ]
     },
     "metadata": {
      "needs_background": "light"
     },
     "output_type": "display_data"
    }
   ],
   "source": [
    "# Plot the results for the different simulation runs\n",
    "data = [list(sim_st20.mean()), list(sim_st40.mean()), list(sim_st60.mean()), \n",
    "        list(sim_st80.mean()), list(sim_st100.mean()), list(sim_st120.mean())]\n",
    "    \n",
    "result_st_df = pd.DataFrame(data, columns=sim_st20.columns)\n",
    "    \n",
    "draw_sim_plots(result_st_df, 'Simulation Run')"
   ]
  },
  {
   "cell_type": "code",
   "execution_count": 41,
   "id": "5c13b15e",
   "metadata": {},
   "outputs": [
    {
     "data": {
      "text/html": [
       "<div>\n",
       "<style scoped>\n",
       "    .dataframe tbody tr th:only-of-type {\n",
       "        vertical-align: middle;\n",
       "    }\n",
       "\n",
       "    .dataframe tbody tr th {\n",
       "        vertical-align: top;\n",
       "    }\n",
       "\n",
       "    .dataframe thead th {\n",
       "        text-align: right;\n",
       "    }\n",
       "</style>\n",
       "<table border=\"1\" class=\"dataframe\">\n",
       "  <thead>\n",
       "    <tr style=\"text-align: right;\">\n",
       "      <th></th>\n",
       "      <th>Patients Created</th>\n",
       "      <th>Patients Treated</th>\n",
       "      <th>Patients Untreated</th>\n",
       "      <th>Mean Waiting Time</th>\n",
       "      <th>Idle Time</th>\n",
       "    </tr>\n",
       "  </thead>\n",
       "  <tbody>\n",
       "    <tr>\n",
       "      <th>0</th>\n",
       "      <td>81.246512</td>\n",
       "      <td>70.506977</td>\n",
       "      <td>10.739535</td>\n",
       "      <td>33.183721</td>\n",
       "      <td>358.027209</td>\n",
       "    </tr>\n",
       "    <tr>\n",
       "      <th>1</th>\n",
       "      <td>77.093023</td>\n",
       "      <td>70.074419</td>\n",
       "      <td>7.018605</td>\n",
       "      <td>33.617349</td>\n",
       "      <td>360.434372</td>\n",
       "    </tr>\n",
       "    <tr>\n",
       "      <th>2</th>\n",
       "      <td>71.911628</td>\n",
       "      <td>68.018605</td>\n",
       "      <td>3.893023</td>\n",
       "      <td>31.658047</td>\n",
       "      <td>417.299488</td>\n",
       "    </tr>\n",
       "    <tr>\n",
       "      <th>3</th>\n",
       "      <td>68.358140</td>\n",
       "      <td>66.181395</td>\n",
       "      <td>2.176744</td>\n",
       "      <td>33.652605</td>\n",
       "      <td>445.540140</td>\n",
       "    </tr>\n",
       "    <tr>\n",
       "      <th>4</th>\n",
       "      <td>64.474419</td>\n",
       "      <td>63.339535</td>\n",
       "      <td>1.134884</td>\n",
       "      <td>33.626977</td>\n",
       "      <td>505.939907</td>\n",
       "    </tr>\n",
       "    <tr>\n",
       "      <th>5</th>\n",
       "      <td>60.418605</td>\n",
       "      <td>60.004651</td>\n",
       "      <td>0.413953</td>\n",
       "      <td>32.688465</td>\n",
       "      <td>566.751767</td>\n",
       "    </tr>\n",
       "  </tbody>\n",
       "</table>\n",
       "</div>"
      ],
      "text/plain": [
       "   Patients Created  Patients Treated  Patients Untreated  Mean Waiting Time  \\\n",
       "0         81.246512         70.506977           10.739535          33.183721   \n",
       "1         77.093023         70.074419            7.018605          33.617349   \n",
       "2         71.911628         68.018605            3.893023          31.658047   \n",
       "3         68.358140         66.181395            2.176744          33.652605   \n",
       "4         64.474419         63.339535            1.134884          33.626977   \n",
       "5         60.418605         60.004651            0.413953          32.688465   \n",
       "\n",
       "    Idle Time  \n",
       "0  358.027209  \n",
       "1  360.434372  \n",
       "2  417.299488  \n",
       "3  445.540140  \n",
       "4  505.939907  \n",
       "5  566.751767  "
      ]
     },
     "execution_count": 41,
     "metadata": {},
     "output_type": "execute_result"
    }
   ],
   "source": [
    "result_st_df"
   ]
  },
  {
   "cell_type": "code",
   "execution_count": 42,
   "id": "da44336b",
   "metadata": {},
   "outputs": [
    {
     "data": {
      "image/png": "[encoded data removed]",
      "text/plain": [
       "<Figure size 1152x576 with 2 Axes>"
      ]
     },
     "metadata": {
      "needs_background": "light"
     },
     "output_type": "display_data"
    }
   ],
   "source": [
    "# Plot barcharts of the sim_st100 and sim_st120 Patients Untreated results\n",
    "plt.figure(figsize=(16, 8))\n",
    "plt.subplot(1, 2, 1)\n",
    "sns.countplot(data=sim_st100, x='Patients Untreated')\n",
    "plt.xlabel('Patients Untreated')\n",
    "plt.ylabel('Count')\n",
    "plt.title('100 Stop Time - Patients Untreated')\n",
    "    \n",
    "plt.subplot(1, 2, 2)\n",
    "sns.countplot(data=sim_st120, x='Patients Untreated')\n",
    "plt.xlabel('Patients Untreated')\n",
    "plt.ylabel('Count')\n",
    "plt.title('120 Stop Time - Patients Untreated')\n",
    "\n",
    "plt.show()"
   ]
  },
  {
   "cell_type": "markdown",
   "id": "c12f889b",
   "metadata": {},
   "source": [
    "We can see that a stop period of 120 minutes, closing the clinic to new arrivals at 420 - 120 minutes, appears to be the best solution to reduce the mean number of Untreated Patients to below 1.\n",
    "\n",
    "The mean number of Patients Treated has been reduced by approximately 10 and the number of Untreated Patients has been reduced by approximately 10. The Mean Waiting Time has remained in the range previously seen. The Idle Time has increased substantially.\n",
    "\n",
    "As the mean Patients Untreated is reduced it is expected that the standard deviation of the variable will also reduce since there is a minimum possible value of 0. Hence it is possible that the sample size could have been reduced for the simulations with higher Stop Time values."
   ]
  },
  {
   "cell_type": "code",
   "execution_count": 43,
   "id": "794cd450",
   "metadata": {},
   "outputs": [
    {
     "data": {
      "text/plain": [
       "Patients Created        7.753301\n",
       "Patients Treated        7.177651\n",
       "Patients Untreated      1.268154\n",
       "Mean Waiting Time      14.256158\n",
       "Idle Time             136.726994\n",
       "dtype: float64"
      ]
     },
     "execution_count": 43,
     "metadata": {},
     "output_type": "execute_result"
    }
   ],
   "source": [
    "sim_st120.std()"
   ]
  },
  {
   "cell_type": "code",
   "execution_count": 44,
   "id": "e3ad4db6",
   "metadata": {},
   "outputs": [
    {
     "data": {
      "text/plain": [
       "Patients Created        8.411610\n",
       "Patients Treated        7.163059\n",
       "Patients Untreated      2.323276\n",
       "Mean Waiting Time      15.558339\n",
       "Idle Time             140.866044\n",
       "dtype: float64"
      ]
     },
     "execution_count": 44,
     "metadata": {},
     "output_type": "execute_result"
    }
   ],
   "source": [
    "sim_st100.std()"
   ]
  },
  {
   "cell_type": "code",
   "execution_count": 45,
   "id": "ecc353db",
   "metadata": {},
   "outputs": [
    {
     "name": "stdout",
     "output_type": "stream",
     "text": [
      "The required sample size is approximately:  17.0\n"
     ]
    }
   ],
   "source": [
    "# For the standard deviation of the sim_st120 sample\n",
    "# Calculate the required sample size for Patients Untreated with bound = 0.5 and probability = 0.9 \n",
    "calculate_n(1.27, 0.5, 0.9)"
   ]
  },
  {
   "cell_type": "code",
   "execution_count": 46,
   "id": "68a76fc3",
   "metadata": {},
   "outputs": [
    {
     "name": "stdout",
     "output_type": "stream",
     "text": [
      "The required sample size is approximately:  58.0\n"
     ]
    }
   ],
   "source": [
    "# For the standard deviation of the sim_st100 sample\n",
    "# Calculate the required sample size for Patients Untreated with bound = 0.5 and probability = 0.9\n",
    "calculate_n(2.32, 0.5, 0.9)"
   ]
  },
  {
   "cell_type": "code",
   "execution_count": 47,
   "id": "b03091a5",
   "metadata": {},
   "outputs": [],
   "source": [
    "# Refine the Stop Time using smaller increments.\n",
    "# We can reduce the sample size to 100 while retaining at least the desired level of accuracy.\n",
    "stop_period = 100\n",
    "sim2_st100 = run_simulation(100)\n",
    "\n",
    "stop_period = 105\n",
    "sim2_st105 = run_simulation(100)\n",
    "\n",
    "stop_period = 110\n",
    "sim2_st110 = run_simulation(100)\n",
    "\n",
    "stop_period = 115\n",
    "sim2_st115 = run_simulation(100)\n",
    "\n",
    "stop_period = 120\n",
    "sim2_st120 = run_simulation(100)"
   ]
  },
  {
   "cell_type": "code",
   "execution_count": 48,
   "id": "504bb8f7",
   "metadata": {},
   "outputs": [
    {
     "data": {
      "image/png": "[encoded data removed]",
      "text/plain": [
       "<Figure size 1152x864 with 4 Axes>"
      ]
     },
     "metadata": {
      "needs_background": "light"
     },
     "output_type": "display_data"
    }
   ],
   "source": [
    "# Plot the results for the different simulation runs\n",
    "data2 = [list(sim2_st100.mean()), list(sim2_st105.mean()), list(sim2_st110.mean()), \n",
    "        list(sim2_st115.mean()), list(sim2_st120.mean())]\n",
    "    \n",
    "result2_st_df = pd.DataFrame(data2, columns=sim2_st100.columns)\n",
    "    \n",
    "draw_sim_plots(result2_st_df, 'Simulation Run')"
   ]
  },
  {
   "cell_type": "code",
   "execution_count": 49,
   "id": "a770809e",
   "metadata": {},
   "outputs": [
    {
     "data": {
      "text/html": [
       "<div>\n",
       "<style scoped>\n",
       "    .dataframe tbody tr th:only-of-type {\n",
       "        vertical-align: middle;\n",
       "    }\n",
       "\n",
       "    .dataframe tbody tr th {\n",
       "        vertical-align: top;\n",
       "    }\n",
       "\n",
       "    .dataframe thead th {\n",
       "        text-align: right;\n",
       "    }\n",
       "</style>\n",
       "<table border=\"1\" class=\"dataframe\">\n",
       "  <thead>\n",
       "    <tr style=\"text-align: right;\">\n",
       "      <th></th>\n",
       "      <th>Patients Created</th>\n",
       "      <th>Patients Treated</th>\n",
       "      <th>Patients Untreated</th>\n",
       "      <th>Mean Waiting Time</th>\n",
       "      <th>Idle Time</th>\n",
       "    </tr>\n",
       "  </thead>\n",
       "  <tbody>\n",
       "    <tr>\n",
       "      <th>0</th>\n",
       "      <td>65.83</td>\n",
       "      <td>64.57</td>\n",
       "      <td>1.26</td>\n",
       "      <td>35.2652</td>\n",
       "      <td>479.7722</td>\n",
       "    </tr>\n",
       "    <tr>\n",
       "      <th>1</th>\n",
       "      <td>64.49</td>\n",
       "      <td>63.50</td>\n",
       "      <td>0.99</td>\n",
       "      <td>35.3412</td>\n",
       "      <td>491.5325</td>\n",
       "    </tr>\n",
       "    <tr>\n",
       "      <th>2</th>\n",
       "      <td>62.51</td>\n",
       "      <td>61.69</td>\n",
       "      <td>0.82</td>\n",
       "      <td>32.8753</td>\n",
       "      <td>533.8216</td>\n",
       "    </tr>\n",
       "    <tr>\n",
       "      <th>3</th>\n",
       "      <td>59.99</td>\n",
       "      <td>59.45</td>\n",
       "      <td>0.54</td>\n",
       "      <td>32.2543</td>\n",
       "      <td>570.8334</td>\n",
       "    </tr>\n",
       "    <tr>\n",
       "      <th>4</th>\n",
       "      <td>61.13</td>\n",
       "      <td>60.62</td>\n",
       "      <td>0.51</td>\n",
       "      <td>33.4753</td>\n",
       "      <td>553.7584</td>\n",
       "    </tr>\n",
       "  </tbody>\n",
       "</table>\n",
       "</div>"
      ],
      "text/plain": [
       "   Patients Created  Patients Treated  Patients Untreated  Mean Waiting Time  \\\n",
       "0             65.83             64.57                1.26            35.2652   \n",
       "1             64.49             63.50                0.99            35.3412   \n",
       "2             62.51             61.69                0.82            32.8753   \n",
       "3             59.99             59.45                0.54            32.2543   \n",
       "4             61.13             60.62                0.51            33.4753   \n",
       "\n",
       "   Idle Time  \n",
       "0   479.7722  \n",
       "1   491.5325  \n",
       "2   533.8216  \n",
       "3   570.8334  \n",
       "4   553.7584  "
      ]
     },
     "execution_count": 49,
     "metadata": {},
     "output_type": "execute_result"
    }
   ],
   "source": [
    "result2_st_df"
   ]
  },
  {
   "cell_type": "markdown",
   "id": "4fc75fc4",
   "metadata": {},
   "source": [
    "Based on these results we could adjust the stop period to 110, closing the clinic at 420 - 110, and still be reasonably confident that on average Patients Untreated will be less than one. "
   ]
  }
 ],
 "metadata": {
  "kernelspec": {
   "display_name": "Python 3",
   "language": "python",
   "name": "python3"
  },
  "language_info": {
   "codemirror_mode": {
    "name": "ipython",
    "version": 3
   },
   "file_extension": ".py",
   "mimetype": "text/x-python",
   "name": "python",
   "nbconvert_exporter": "python",
   "pygments_lexer": "ipython3",
   "version": "3.9.0"
  }
 },
 "nbformat": 4,
 "nbformat_minor": 5
}
