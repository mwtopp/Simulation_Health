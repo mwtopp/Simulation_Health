{
 "cells": [
  {
   "cell_type": "markdown",
   "id": "4711d0ec",
   "metadata": {},
   "source": [
    "This project will develop and explore a simple simulation of a health service provider, such as a clinic.\n",
    "\n",
    "The following assumptions will be made:\n",
    "\n",
    "Patients arrive at random intervals according to a Poisson process, the time between arrivals having an exponential distribution.\n",
    "\n",
    "Patients will be randomly assigned a category of health condition. \n",
    "\n",
    "Patients may have to wait for a doctor to be available to assess them.\n",
    "\n",
    "When a doctor is available the patients are assessed and assigned to a specialist doctor/consultant according to the previously assigned condition. The number of doctors performing the initial assessment is a variable to be explored with the simulation.\n",
    "\n",
    "Patients may have to wait for a specialist to be available.\n",
    "\n",
    "When a specialist is available the patients are treated. The number of specialists for each category is a variable to be explored by the simulation.\n",
    "\n",
    "It is assumed that no patients need emergency care so there is no need to prioritize them.\n",
    "\n",
    "The clinic is open for 7 hours a day. Staff breaks will be ingnored."
   ]
  },
  {
   "cell_type": "code",
   "execution_count": 1,
   "id": "029e77e6",
   "metadata": {},
   "outputs": [],
   "source": [
    "# import the required libraries\n",
    "import simpy\n",
    "import random\n",
    "import pandas as pd\n",
    "import statistics"
   ]
  },
  {
   "cell_type": "markdown",
   "id": "cb71bb10",
   "metadata": {},
   "source": [
    "The simulation will explore three performance indicators; total number of patients treated, mean patient waiting time and idle time for medical staff.\n",
    "\n",
    "Each simulation will be repeated N times and the mean result calculated for each performance indicator."
   ]
  },
  {
   "cell_type": "code",
   "execution_count": 2,
   "id": "4692dd73",
   "metadata": {},
   "outputs": [],
   "source": [
    "# The outcomes for each simulation will be saved in a list\n",
    "total_patients = []\n",
    "mean_waiting = []\n",
    "idle_time = []\n",
    "\n",
    "# The simulation will be repeated N times\n",
    "N = 2"
   ]
  },
  {
   "cell_type": "markdown",
   "id": "c8635b40",
   "metadata": {},
   "source": [
    "The simulation will include:\n",
    "\n",
    "4 Resources; the doctors conducting the initial assessment and three categories of specialists."
   ]
  },
  {
   "cell_type": "code",
   "execution_count": 3,
   "id": "6bf80479",
   "metadata": {},
   "outputs": [],
   "source": [
    "# The parameters are:\n",
    "\n",
    "# The mean time between patient arrivals (the unit of time used is minutes)\n",
    "arrival_mean = 5\n",
    "# The distribution of patient health conditions (probability, total sums to 1)\n",
    "cond_1_prob = 0.33\n",
    "cond_2_prob = 0.33\n",
    "cond_3_prob = 0.34\n",
    "# The mean time for a doctor to complete the initial assessment of each patient and corresponding lower and upper limits\n",
    "# Allowing for a uniform distribution and a range of 4 minutes. The minimum mean value is 3 minutes.\n",
    "assess_mean = 5\n",
    "assess_lower = assess_mean - 2\n",
    "assess_upper = assess_mean + 2\n",
    "# The mean time and standard deviation for a specialist to treat each health condition.\n",
    "# Assuming a normal distribution and discounting the minimal possibility of a negative time.\n",
    "special_1_mean = 20\n",
    "special_1_sd = 5\n",
    "\n",
    "special_2_mean = 20\n",
    "special_2_sd = 5\n",
    "\n",
    "special_3_mean = 20\n",
    "special_3_sd = 5"
   ]
  },
  {
   "cell_type": "code",
   "execution_count": 4,
   "id": "f78d6e3f",
   "metadata": {},
   "outputs": [],
   "source": [
    "# The variables are:\n",
    "\n",
    "# The number of doctors performing the initial assessments\n",
    "num_doctors = 1\n",
    "# The number of specialists treating the patients for each health condition\n",
    "num_special_1 = 1\n",
    "num_special_2 = 1\n",
    "num_special_3 = 1"
   ]
  },
  {
   "cell_type": "code",
   "execution_count": 5,
   "id": "3ee71603",
   "metadata": {},
   "outputs": [],
   "source": [
    "# Create the environment, the Clinic\n",
    "class Clinic:\n",
    "    def __init__(self, env, num_doctors, num_special_1, num_special_2, num_special_3):\n",
    "        self.env = env\n",
    "        self.doctor = simpy.Resource(env, num_doctors)\n",
    "        self.special_1 = simpy.Resource(env, capacity=num_special_1)\n",
    "        self.special_2 = simpy.Resource(env, capacity=num_special_2)\n",
    "        self.special_3 = simpy.Resource(env, capacity=num_special_3)\n",
    "    \n",
    "    def initial_assess(self, patient):\n",
    "        yield self.env.timeout(random.randint(assess_lower, assess_upper))\n",
    "    \n",
    "    def special_1(self, patient):\n",
    "        yield self.env.timeout(random.normalvariate(special_1_mean, special_1_sd))\n",
    "    \n",
    "    def special_2(self, patient):\n",
    "        yield self.env.timeout(random.normalvariate(special_2_mean, special_2_sd))\n",
    "        \n",
    "    def special_3(self, patient):\n",
    "        yield self.env.timeout(random.normalvariate(special_3_mean, special_3_sd))"
   ]
  },
  {
   "cell_type": "code",
   "execution_count": 6,
   "id": "a110a396",
   "metadata": {},
   "outputs": [],
   "source": [
    "# Create a function to track a patient through the clinic\n",
    "def visit_clinic(env, patient, clinic):\n",
    "    # assign a condition to the patient\n",
    "    condition_random = random.random()\n",
    "    if condition_random <= cond_1_prob:\n",
    "        patient_condition = 1\n",
    "    elif condition_random <= cond_1_prob + cond_2_prob:\n",
    "        patient_condition = 2\n",
    "    else:\n",
    "        patient_condition = 3\n",
    "    \n",
    "    # patient arrives at clinic\n",
    "    assess_arrival_time = env.now\n",
    "    \n",
    "    with clinic.doctor.request() as request:\n",
    "        yield request\n",
    "        # time patient waited to be assessed\n",
    "        assess_start_time = env.now\n",
    "        assess_waiting = assess_start_time - assess_arrival_time\n",
    "        \n",
    "        yield env.process(clinic.initial_assess(patient))\n",
    "    \n",
    "    # patient completes assesment\n",
    "    treat_arrival_time = env.now\n",
    "    assessment_time = treat_arrival_time - assess_start_time\n",
    "    \n",
    "    # The patient is sent to the appropriate specialist\n",
    "    if patient_condition == 1:\n",
    "        with clinic.special_1.request() as request:\n",
    "            yield request\n",
    "            # time patient waited for treatment 1\n",
    "            treat_start_time = env.now\n",
    "            treat_waiting = treat_start_time - treat_arrival_time\n",
    "            \n",
    "            yield env.process(clinic.special_1(patient))\n",
    "    \n",
    "    elif patient_condition == 2:\n",
    "        with clinic.special_2.request() as request:\n",
    "            yield request\n",
    "            # time patient waited for treatment 2\n",
    "            treat_start_time = env.now\n",
    "            treat_waiting = treat_start_time - treat_arrival_time\n",
    "            \n",
    "            yield env.process(clinic.special_2(patient))\n",
    "    \n",
    "    else:\n",
    "        with clinic.special_3.request() as request:\n",
    "            yield request\n",
    "            # time patient waited for treatment 3\n",
    "            treat_start_time = env.now\n",
    "            treat_waiting = treat_start_time - treat_arrival_time\n",
    "            \n",
    "            yield env.process(clinic.special_3(patient))\n",
    "    \n",
    "    # patient completes treatment\n",
    "    treat_comp_time = env.now\n",
    "    treat_time = treat_comp_time - treat_start_time\n",
    "    \n",
    "    # save waiting times to list\n",
    "    sim_waiting_times.append(assess_waiting+treat_waiting)\n",
    "    \n",
    "    # count number of patients treated\n",
    "    patient_treat += 1"
   ]
  },
  {
   "cell_type": "code",
   "execution_count": 16,
   "id": "7c215d50",
   "metadata": {},
   "outputs": [],
   "source": [
    "# Create a function to run the simulation\n",
    "def run_clinic(env, num_doctors, num_special_1, num_special_2, num_special_3):\n",
    "    clinic = Clinic(env, num_doctors, num_special_1, num_special_2, num_special_3)\n",
    "    \n",
    "    # allow for some patients to be waiting\n",
    "    for patient in range(3):\n",
    "        env.process(visit_clinic(env, patient, clinic))\n",
    "    # simulate arrival of patients\n",
    "    while True:\n",
    "        yield env.timeout(random.expovariate(1/arrival_mean))\n",
    "        \n",
    "        patient += 1\n",
    "        env.process(visit_clinic(env, patient, clinic))"
   ]
  },
  {
   "cell_type": "code",
   "execution_count": 17,
   "id": "2755836f",
   "metadata": {},
   "outputs": [],
   "source": [
    "# Run the simulation N times\n",
    "def run_simulation():\n",
    "    \n",
    "    # run the simulation N times\n",
    "    for i in range(N):\n",
    "        \n",
    "        # create simulation lists and counts\n",
    "        sim_waiting_times = []\n",
    "        patient_treat = 0\n",
    "        \n",
    "        # create environment\n",
    "        env = simpy.Environment()\n",
    "        env.process(run_clinic(env, num_doctors, num_special_1, num_special_2, num_special_3))\n",
    "        env.run(until=420)\n",
    "        \n",
    "        # save performance indicators to lists\n",
    "        total_patient.append(patient_treat)\n",
    "        waiting_times.append(statistics.mean(sim_waiting_times))\n",
    "        \n",
    "    return total_patient, waiting_times\n",
    "        \n",
    "        \n"
   ]
  },
  {
   "cell_type": "code",
   "execution_count": 18,
   "id": "9cfd112c",
   "metadata": {},
   "outputs": [
    {
     "ename": "TypeError",
     "evalue": "'Resource' object is not callable",
     "output_type": "error",
     "traceback": [
      "\u001b[1;31m---------------------------------------------------------------------------\u001b[0m",
      "\u001b[1;31mTypeError\u001b[0m                                 Traceback (most recent call last)",
      "\u001b[1;32m<ipython-input-6-cc82cb380da5>\u001b[0m in \u001b[0;36mvisit_clinic\u001b[1;34m(env, patient, clinic)\u001b[0m\n\u001b[0;32m     52\u001b[0m \u001b[1;33m\u001b[0m\u001b[0m\n\u001b[1;32m---> 53\u001b[1;33m             \u001b[1;32myield\u001b[0m \u001b[0menv\u001b[0m\u001b[1;33m.\u001b[0m\u001b[0mprocess\u001b[0m\u001b[1;33m(\u001b[0m\u001b[0mclinic\u001b[0m\u001b[1;33m.\u001b[0m\u001b[0mspecial_3\u001b[0m\u001b[1;33m(\u001b[0m\u001b[0mpatient\u001b[0m\u001b[1;33m)\u001b[0m\u001b[1;33m)\u001b[0m\u001b[1;33m\u001b[0m\u001b[1;33m\u001b[0m\u001b[0m\n\u001b[0m\u001b[0;32m     54\u001b[0m \u001b[1;33m\u001b[0m\u001b[0m\n",
      "\u001b[1;31mTypeError\u001b[0m: 'Resource' object is not callable",
      "\nThe above exception was the direct cause of the following exception:\n",
      "\u001b[1;31mTypeError\u001b[0m                                 Traceback (most recent call last)",
      "\u001b[1;32m<ipython-input-18-5fefe5a1a329>\u001b[0m in \u001b[0;36m<module>\u001b[1;34m\u001b[0m\n\u001b[1;32m----> 1\u001b[1;33m \u001b[0mrun_simulation\u001b[0m\u001b[1;33m(\u001b[0m\u001b[1;33m)\u001b[0m\u001b[1;33m\u001b[0m\u001b[1;33m\u001b[0m\u001b[0m\n\u001b[0m",
      "\u001b[1;32m<ipython-input-17-bfad95f63eeb>\u001b[0m in \u001b[0;36mrun_simulation\u001b[1;34m()\u001b[0m\n\u001b[0;32m     12\u001b[0m         \u001b[0menv\u001b[0m \u001b[1;33m=\u001b[0m \u001b[0msimpy\u001b[0m\u001b[1;33m.\u001b[0m\u001b[0mEnvironment\u001b[0m\u001b[1;33m(\u001b[0m\u001b[1;33m)\u001b[0m\u001b[1;33m\u001b[0m\u001b[1;33m\u001b[0m\u001b[0m\n\u001b[0;32m     13\u001b[0m         \u001b[0menv\u001b[0m\u001b[1;33m.\u001b[0m\u001b[0mprocess\u001b[0m\u001b[1;33m(\u001b[0m\u001b[0mrun_clinic\u001b[0m\u001b[1;33m(\u001b[0m\u001b[0menv\u001b[0m\u001b[1;33m,\u001b[0m \u001b[0mnum_doctors\u001b[0m\u001b[1;33m,\u001b[0m \u001b[0mnum_special_1\u001b[0m\u001b[1;33m,\u001b[0m \u001b[0mnum_special_2\u001b[0m\u001b[1;33m,\u001b[0m \u001b[0mnum_special_3\u001b[0m\u001b[1;33m)\u001b[0m\u001b[1;33m)\u001b[0m\u001b[1;33m\u001b[0m\u001b[1;33m\u001b[0m\u001b[0m\n\u001b[1;32m---> 14\u001b[1;33m         \u001b[0menv\u001b[0m\u001b[1;33m.\u001b[0m\u001b[0mrun\u001b[0m\u001b[1;33m(\u001b[0m\u001b[0muntil\u001b[0m\u001b[1;33m=\u001b[0m\u001b[1;36m420\u001b[0m\u001b[1;33m)\u001b[0m\u001b[1;33m\u001b[0m\u001b[1;33m\u001b[0m\u001b[0m\n\u001b[0m\u001b[0;32m     15\u001b[0m \u001b[1;33m\u001b[0m\u001b[0m\n\u001b[0;32m     16\u001b[0m         \u001b[1;31m# save performance indicators to lists\u001b[0m\u001b[1;33m\u001b[0m\u001b[1;33m\u001b[0m\u001b[1;33m\u001b[0m\u001b[0m\n",
      "\u001b[1;32mc:\\users\\mwtop\\.virtualenvs\\simulation_health-qvua1pfd\\lib\\site-packages\\simpy\\core.py\u001b[0m in \u001b[0;36mrun\u001b[1;34m(self, until)\u001b[0m\n\u001b[0;32m    252\u001b[0m         \u001b[1;32mtry\u001b[0m\u001b[1;33m:\u001b[0m\u001b[1;33m\u001b[0m\u001b[1;33m\u001b[0m\u001b[0m\n\u001b[0;32m    253\u001b[0m             \u001b[1;32mwhile\u001b[0m \u001b[1;32mTrue\u001b[0m\u001b[1;33m:\u001b[0m\u001b[1;33m\u001b[0m\u001b[1;33m\u001b[0m\u001b[0m\n\u001b[1;32m--> 254\u001b[1;33m                 \u001b[0mself\u001b[0m\u001b[1;33m.\u001b[0m\u001b[0mstep\u001b[0m\u001b[1;33m(\u001b[0m\u001b[1;33m)\u001b[0m\u001b[1;33m\u001b[0m\u001b[1;33m\u001b[0m\u001b[0m\n\u001b[0m\u001b[0;32m    255\u001b[0m         \u001b[1;32mexcept\u001b[0m \u001b[0mStopSimulation\u001b[0m \u001b[1;32mas\u001b[0m \u001b[0mexc\u001b[0m\u001b[1;33m:\u001b[0m\u001b[1;33m\u001b[0m\u001b[1;33m\u001b[0m\u001b[0m\n\u001b[0;32m    256\u001b[0m             \u001b[1;32mreturn\u001b[0m \u001b[0mexc\u001b[0m\u001b[1;33m.\u001b[0m\u001b[0margs\u001b[0m\u001b[1;33m[\u001b[0m\u001b[1;36m0\u001b[0m\u001b[1;33m]\u001b[0m  \u001b[1;31m# == until.value\u001b[0m\u001b[1;33m\u001b[0m\u001b[1;33m\u001b[0m\u001b[0m\n",
      "\u001b[1;32mc:\\users\\mwtop\\.virtualenvs\\simulation_health-qvua1pfd\\lib\\site-packages\\simpy\\core.py\u001b[0m in \u001b[0;36mstep\u001b[1;34m(self)\u001b[0m\n\u001b[0;32m    204\u001b[0m             \u001b[0mexc\u001b[0m \u001b[1;33m=\u001b[0m \u001b[0mtype\u001b[0m\u001b[1;33m(\u001b[0m\u001b[0mevent\u001b[0m\u001b[1;33m.\u001b[0m\u001b[0m_value\u001b[0m\u001b[1;33m)\u001b[0m\u001b[1;33m(\u001b[0m\u001b[1;33m*\u001b[0m\u001b[0mevent\u001b[0m\u001b[1;33m.\u001b[0m\u001b[0m_value\u001b[0m\u001b[1;33m.\u001b[0m\u001b[0margs\u001b[0m\u001b[1;33m)\u001b[0m\u001b[1;33m\u001b[0m\u001b[1;33m\u001b[0m\u001b[0m\n\u001b[0;32m    205\u001b[0m             \u001b[0mexc\u001b[0m\u001b[1;33m.\u001b[0m\u001b[0m__cause__\u001b[0m \u001b[1;33m=\u001b[0m \u001b[0mevent\u001b[0m\u001b[1;33m.\u001b[0m\u001b[0m_value\u001b[0m\u001b[1;33m\u001b[0m\u001b[1;33m\u001b[0m\u001b[0m\n\u001b[1;32m--> 206\u001b[1;33m             \u001b[1;32mraise\u001b[0m \u001b[0mexc\u001b[0m\u001b[1;33m\u001b[0m\u001b[1;33m\u001b[0m\u001b[0m\n\u001b[0m\u001b[0;32m    207\u001b[0m \u001b[1;33m\u001b[0m\u001b[0m\n\u001b[0;32m    208\u001b[0m     def run(\n",
      "\u001b[1;31mTypeError\u001b[0m: 'Resource' object is not callable"
     ]
    }
   ],
   "source": [
    "run_simulation()"
   ]
  }
 ],
 "metadata": {
  "kernelspec": {
   "display_name": "Python 3",
   "language": "python",
   "name": "python3"
  },
  "language_info": {
   "codemirror_mode": {
    "name": "ipython",
    "version": 3
   },
   "file_extension": ".py",
   "mimetype": "text/x-python",
   "name": "python",
   "nbconvert_exporter": "python",
   "pygments_lexer": "ipython3",
   "version": "3.9.0"
  }
 },
 "nbformat": 4,
 "nbformat_minor": 5
}
