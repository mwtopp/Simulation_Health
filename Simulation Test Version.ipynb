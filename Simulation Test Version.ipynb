{
 "cells": [
  {
   "cell_type": "markdown",
   "id": "edcb3c1b",
   "metadata": {},
   "source": [
    "This is a simplified version of the health clinic simulation for error detection / practice."
   ]
  },
  {
   "cell_type": "code",
   "execution_count": 1,
   "id": "9ade657b",
   "metadata": {},
   "outputs": [],
   "source": [
    "# import the required libraries\n",
    "import simpy\n",
    "import random\n",
    "import pandas as pd\n",
    "import statistics"
   ]
  },
  {
   "cell_type": "code",
   "execution_count": 2,
   "id": "f6b3d576",
   "metadata": {},
   "outputs": [],
   "source": [
    "# The outcomes for each simulation will be saved in a list.\n",
    "# Initially it will measure the number of patients treated.\n",
    "# total_patients = []\n",
    "# mean_waiting = []\n",
    "# idle_time = []\n",
    "\n",
    "# The simulation will be repeated N times\n",
    "# Initially the simulation will run once only\n",
    "# N = 2"
   ]
  },
  {
   "cell_type": "code",
   "execution_count": 3,
   "id": "b77ad043",
   "metadata": {},
   "outputs": [],
   "source": [
    "# The parameters are:\n",
    "\n",
    "# The mean time between patient arrivals (the unit of time used is minutes)\n",
    "arrival_mean = 5\n",
    "# The distribution of patient health conditions (probability, total sums to 1)\n",
    "# Initially all patients will be treated together with no different conditions specified\n",
    "# cond_1_prob = 0.33\n",
    "# cond_2_prob = 0.33\n",
    "# cond_3_prob = 0.34\n",
    "\n",
    "# The mean time for a doctor to complete the initial assessment of each patient and corresponding lower and upper limits\n",
    "# Allowing for a uniform distribution and a range of 4 minutes. The minimum mean value is 3 minutes.\n",
    "# Initially the assessment will be a constant\n",
    "assess_mean = 5\n",
    "# assess_lower = assess_mean - 2\n",
    "# assess_upper = assess_mean + 2\n",
    "\n",
    "# The mean time and standard deviation for a specialist to treat each health condition.\n",
    "# Assuming a normal distribution and discounting the minimal possibility of a negative time.\n",
    "# Initially no different conditions will be specified, assume all patients are condition 1\n",
    "special_1_mean = 20\n",
    "special_1_sd = 5\n",
    "\n",
    "# special_2_mean = 20\n",
    "# special_2_sd = 5\n",
    "\n",
    "# special_3_mean = 20\n",
    "# special_3_sd = 5"
   ]
  },
  {
   "cell_type": "code",
   "execution_count": 4,
   "id": "abc38c41",
   "metadata": {},
   "outputs": [],
   "source": [
    "# The variables are:\n",
    "\n",
    "# The number of doctors performing the initial assessments\n",
    "num_doctors = 1\n",
    "\n",
    "# The number of specialists treating the patients for each health condition\n",
    "# Initially no different conditions will be specified, assume all patients are condition 1\n",
    "num_special_1 = 1\n",
    "# num_special_2 = 1\n",
    "# num_special_3 = 1"
   ]
  },
  {
   "cell_type": "code",
   "execution_count": 31,
   "id": "c79a63f1",
   "metadata": {},
   "outputs": [],
   "source": [
    "# Create the environment, the Clinic\n",
    "class Clinic:\n",
    "    def __init__(self, env, num_doctors, num_special_1):\n",
    "        self.env = env\n",
    "        self.doctor = simpy.Resource(env, capacity=num_doctors)\n",
    "        self.special_1 = simpy.Resource(env, capacity=num_special_1)\n",
    "        \n",
    "    \n",
    "    def initial_assess(self, patient):\n",
    "        yield self.env.timeout(random.uniform(5, 10))\n",
    "    \n",
    "    # def special_1(self, patient):\n",
    "        # yield self.env.timeout(random.normalvariate(special_1_mean, special_1_sd))\n",
    "        # yield self.env.timeout(10)"
   ]
  },
  {
   "cell_type": "code",
   "execution_count": 32,
   "id": "bb5a99f3",
   "metadata": {},
   "outputs": [],
   "source": [
    "# Create a function to track a patient through the clinic\n",
    "def visit_clinic(env, patient, clinic):\n",
    "        \n",
    "    # patient arrives at clinic\n",
    "    # assess_arrival_time = env.now\n",
    "    \n",
    "    with clinic.doctor.request() as request:\n",
    "        yield request\n",
    "                \n",
    "        yield env.process(clinic.initial_assess(patient))\n",
    "    \n",
    "        \n",
    "    # The patient is sent to the specialist\n",
    "    # with clinic.special_1.request() as request:\n",
    "        #yield request\n",
    "            \n",
    "            \n",
    "        #yield env.process(clinic.special_1(patient))\n",
    "      \n",
    "    # count number of patients treated\n",
    "    # patient_treat += 1"
   ]
  },
  {
   "cell_type": "code",
   "execution_count": 37,
   "id": "02b53ccf",
   "metadata": {},
   "outputs": [],
   "source": [
    "# Create a function to run the simulation\n",
    "def run_clinic(env, num_doctors, num_special_1):\n",
    "    clinic = Clinic(env, num_doctors, num_special_1)\n",
    "    \n",
    "      \n",
    "    # allow for some patients to be waiting\n",
    "    for patient in range(3):\n",
    "        env.process(visit_clinic(env, patient, clinic))\n",
    "        print('waiting patient {} treated at {}'.format(patient, env.now))\n",
    "    \n",
    "    # simulate arrival of patients\n",
    "    patient = 2\n",
    "    while True:\n",
    "        yield env.timeout(random.expovariate(1/arrival_mean))\n",
    "        \n",
    "        patient += 1\n",
    "        print('patient {} arrived at {}'.format(patient, env.now))\n",
    "        \n",
    "        env.process(visit_clinic(env, patient, clinic))\n",
    "        print('patient {} treated at {}'.format(patient, env.now))"
   ]
  },
  {
   "cell_type": "code",
   "execution_count": 38,
   "id": "a8beaeb5",
   "metadata": {},
   "outputs": [
    {
     "name": "stdout",
     "output_type": "stream",
     "text": [
      "waiting patient 0 treated at 0\n",
      "waiting patient 1 treated at 0\n",
      "waiting patient 2 treated at 0\n",
      "patient 3 arrived at 0.16198599891084847\n",
      "patient 3 treated at 0.16198599891084847\n",
      "patient 4 arrived at 1.5192333984656374\n",
      "patient 4 treated at 1.5192333984656374\n",
      "patient 5 arrived at 5.764026423423313\n",
      "patient 5 treated at 5.764026423423313\n",
      "patient 6 arrived at 25.182332834411664\n",
      "patient 6 treated at 25.182332834411664\n",
      "patient 7 arrived at 29.495567701262942\n",
      "patient 7 treated at 29.495567701262942\n",
      "patient 8 arrived at 36.42091406788785\n",
      "patient 8 treated at 36.42091406788785\n",
      "patient 9 arrived at 40.952339751973206\n",
      "patient 9 treated at 40.952339751973206\n",
      "patient 10 arrived at 46.11586648734317\n",
      "patient 10 treated at 46.11586648734317\n",
      "patient 11 arrived at 55.69768459092843\n",
      "patient 11 treated at 55.69768459092843\n",
      "patient 12 arrived at 58.773458530629114\n",
      "patient 12 treated at 58.773458530629114\n",
      "patient 13 arrived at 62.507641023078364\n",
      "patient 13 treated at 62.507641023078364\n",
      "patient 14 arrived at 64.49999585923761\n",
      "patient 14 treated at 64.49999585923761\n",
      "patient 15 arrived at 67.45234828662191\n",
      "patient 15 treated at 67.45234828662191\n",
      "patient 16 arrived at 70.35223822441698\n",
      "patient 16 treated at 70.35223822441698\n",
      "patient 17 arrived at 80.18550477352855\n",
      "patient 17 treated at 80.18550477352855\n",
      "patient 18 arrived at 82.63661667213775\n",
      "patient 18 treated at 82.63661667213775\n",
      "patient 19 arrived at 84.71554425504988\n",
      "patient 19 treated at 84.71554425504988\n",
      "patient 20 arrived at 87.87208026774499\n",
      "patient 20 treated at 87.87208026774499\n",
      "patient 21 arrived at 92.62110329811986\n",
      "patient 21 treated at 92.62110329811986\n",
      "patient 22 arrived at 94.41707091420398\n",
      "patient 22 treated at 94.41707091420398\n"
     ]
    }
   ],
   "source": [
    "# Run the simulation\n",
    "\n",
    "    \n",
    "     \n",
    "# create simulation lists and counts\n",
    "# sim_waiting_times = []\n",
    "# patient_treat = 0\n",
    "        \n",
    "# create environment\n",
    "env = simpy.Environment()\n",
    "env.process(run_clinic(env, num_doctors, num_special_1))\n",
    "env.run(until=100)\n",
    "        \n",
    "        "
   ]
  }
 ],
 "metadata": {
  "kernelspec": {
   "display_name": "Python 3",
   "language": "python",
   "name": "python3"
  },
  "language_info": {
   "codemirror_mode": {
    "name": "ipython",
    "version": 3
   },
   "file_extension": ".py",
   "mimetype": "text/x-python",
   "name": "python",
   "nbconvert_exporter": "python",
   "pygments_lexer": "ipython3",
   "version": "3.9.0"
  }
 },
 "nbformat": 4,
 "nbformat_minor": 5
}
